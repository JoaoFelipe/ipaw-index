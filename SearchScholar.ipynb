{
 "cells": [
  {
   "cell_type": "code",
   "execution_count": 1,
   "metadata": {
    "collapsed": true
   },
   "outputs": [],
   "source": [
    "import database\n",
    "from snowballing.operations import load_work, reload, work_by_varname\n",
    "from snowballing.selenium_scholar import SeleniumScholarQuerier\n",
    "from snowballing.snowballing import SearchScholar\n",
    "from snowballing.dbmanager import insert, set_attribute"
   ]
  },
  {
   "cell_type": "code",
   "execution_count": null,
   "metadata": {
    "collapsed": true
   },
   "outputs": [],
   "source": [
    "# Temp\n",
    "insert('''''');"
   ]
  },
  {
   "cell_type": "code",
   "execution_count": 2,
   "metadata": {},
   "outputs": [
    {
     "name": "stderr",
     "output_type": "stream",
     "text": [
      "[ INFO]  settings applied\n"
     ]
    },
    {
     "data": {
      "text/plain": [
       "<snowballing.selenium_scholar.SeleniumScholarQuerier at 0x19aac2c4198>"
      ]
     },
     "execution_count": 2,
     "metadata": {},
     "output_type": "execute_result"
    }
   ],
   "source": [
    "querier = SeleniumScholarQuerier()\n",
    "querier.apply_settings(10, 4)"
   ]
  },
  {
   "cell_type": "code",
   "execution_count": 3,
   "metadata": {
    "collapsed": true
   },
   "outputs": [],
   "source": [
    "manager = SearchScholar(querier)"
   ]
  },
  {
   "cell_type": "code",
   "execution_count": null,
   "metadata": {
    "collapsed": true
   },
   "outputs": [],
   "source": []
  },
  {
   "cell_type": "code",
   "execution_count": null,
   "metadata": {
    "collapsed": true
   },
   "outputs": [],
   "source": []
  },
  {
   "cell_type": "code",
   "execution_count": 4,
   "metadata": {},
   "outputs": [
    {
     "data": {
      "application/vnd.jupyter.widget-view+json": {
       "model_id": "2a0a6ba6a4c847a89ea6cfb407e29139",
       "version_major": 2,
       "version_minor": 0
      },
      "text/plain": [
       "A Jupyter Widget"
      ]
     },
     "metadata": {},
     "output_type": "display_data"
    },
    {
     "data": {
      "application/javascript": [
       "\n",
       "        $('span:contains(\"# Temp\")').closest('.cell').remove();\n",
       "        var code = IPython.notebook.insert_cell_below('code');\n",
       "        code.set_text(decodeURIComponent(window.atob(\"JTIzJTIwVGVtcCUwQWluc2VydCUyOCUyNyUyNyUyNyUyNyUyNyUyNyUyOSUzQiUwQXNldF9hdHRyaWJ1dGUlMjglMjdzdWx0YW5hMjAxMmElMjclMkMlMjAlMjdjbHVzdGVyX2lkJTI3JTJDJTIwJTI3NzE5NDUxMjQ4MzI1NTk3ODYyMiUyNyUyOSUzQiUwQXNldF9hdHRyaWJ1dGUlMjglMjdzdWx0YW5hMjAxMmElMjclMkMlMjAlMjdzY2hvbGFyJTI3JTJDJTIwJTI3aHR0cCUzQS8vc2Nob2xhci5nb29nbGUuY29tL3NjaG9sYXIlM0ZjaXRlcyUzRDcxOTQ1MTI0ODMyNTU5Nzg2MjIlMjZhc19zZHQlM0QyMDA1JTI2c2Npb2R0JTNEMCUyQzUlMjZobCUzRGVuJTI3JTI5JTNC\")));\n",
       "    "
      ],
      "text/plain": [
       "<IPython.core.display.Javascript object>"
      ]
     },
     "metadata": {},
     "output_type": "display_data"
    },
    {
     "data": {
      "application/javascript": [
       "$('span:contains(\"# Temp\")').closest('.cell').remove();"
      ],
      "text/plain": [
       "<IPython.core.display.Javascript object>"
      ]
     },
     "metadata": {},
     "output_type": "display_data"
    },
    {
     "data": {
      "application/javascript": [
       "\n",
       "        $('span:contains(\"# Temp\")').closest('.cell').remove();\n",
       "        var code = IPython.notebook.insert_cell_below('code');\n",
       "        code.set_text(decodeURIComponent(window.atob(\"JTIzJTIwVGVtcCUwQWluc2VydCUyOCUyNyUyNyUyNyUyNyUyNyUyNyUyOSUzQiUwQXNldF9hdHRyaWJ1dGUlMjglMjdzdWx0YW5hMjAxMmElMjclMkMlMjAlMjdjbHVzdGVyX2lkJTI3JTJDJTIwJTI3Mzc3NjIzMTQ1OTY1MzAwMTcxOSUyNyUyOSUzQiUwQXNldF9hdHRyaWJ1dGUlMjglMjdzdWx0YW5hMjAxMmElMjclMkMlMjAlMjdzY2hvbGFyJTI3JTJDJTIwJTI3aHR0cCUzQS8vc2Nob2xhci5nb29nbGUuY29tL3NjaG9sYXIlM0ZjaXRlcyUzRDM3NzYyMzE0NTk2NTMwMDE3MTklMjZhc19zZHQlM0QyMDA1JTI2c2Npb2R0JTNEMCUyQzUlMjZobCUzRGVuJTI3JTI5JTNC\")));\n",
       "    "
      ],
      "text/plain": [
       "<IPython.core.display.Javascript object>"
      ]
     },
     "metadata": {},
     "output_type": "display_data"
    },
    {
     "data": {
      "application/javascript": [
       "$('span:contains(\"# Temp\")').closest('.cell').remove();"
      ],
      "text/plain": [
       "<IPython.core.display.Javascript object>"
      ]
     },
     "metadata": {},
     "output_type": "display_data"
    },
    {
     "data": {
      "application/javascript": [
       "\n",
       "        $('span:contains(\"# Temp\")').closest('.cell').remove();\n",
       "        var code = IPython.notebook.insert_cell_below('code');\n",
       "        code.set_text(decodeURIComponent(window.atob(\"JTIzJTIwVGVtcCUwQWluc2VydCUyOCUyNyUyNyUyNyUyNyUyNyUyNyUyOSUzQiUwQXNldF9hdHRyaWJ1dGUlMjglMjdzdWx0YW5hMjAxMmElMjclMkMlMjAlMjdjbHVzdGVyX2lkJTI3JTJDJTIwJTI3Mzc3NjIzMTQ1OTY1MzAwMTcxOSUyNyUyOSUzQiUwQXNldF9hdHRyaWJ1dGUlMjglMjdzdWx0YW5hMjAxMmElMjclMkMlMjAlMjdzY2hvbGFyJTI3JTJDJTIwJTI3aHR0cCUzQS8vc2Nob2xhci5nb29nbGUuY29tL3NjaG9sYXIlM0ZjaXRlcyUzRDM3NzYyMzE0NTk2NTMwMDE3MTklMjZhc19zZHQlM0QyMDA1JTI2c2Npb2R0JTNEMCUyQzUlMjZobCUzRGVuJTI3JTI5JTNC\")));\n",
       "    "
      ],
      "text/plain": [
       "<IPython.core.display.Javascript object>"
      ]
     },
     "metadata": {},
     "output_type": "display_data"
    },
    {
     "data": {
      "application/javascript": [
       "$('span:contains(\"# Temp\")').closest('.cell').remove();"
      ],
      "text/plain": [
       "<IPython.core.display.Javascript object>"
      ]
     },
     "metadata": {},
     "output_type": "display_data"
    },
    {
     "data": {
      "application/javascript": [
       "\n",
       "        $('span:contains(\"# Temp\")').closest('.cell').remove();\n",
       "        var code = IPython.notebook.insert_cell_below('code');\n",
       "        code.set_text(decodeURIComponent(window.atob(\"JTIzJTIwVGVtcCUwQWluc2VydCUyOCUyNyUyNyUyNyUyNyUyNyUyNyUyOSUzQiUwQXNldF9hdHRyaWJ1dGUlMjglMjdzdWx0YW5hMjAxMmElMjclMkMlMjAlMjdjbHVzdGVyX2lkJTI3JTJDJTIwJTI3NzE5NDUxMjQ4MzI1NTk3ODYyMiUyNyUyOSUzQiUwQXNldF9hdHRyaWJ1dGUlMjglMjdzdWx0YW5hMjAxMmElMjclMkMlMjAlMjdzY2hvbGFyJTI3JTJDJTIwJTI3aHR0cCUzQS8vc2Nob2xhci5nb29nbGUuY29tL3NjaG9sYXIlM0ZjaXRlcyUzRDcxOTQ1MTI0ODMyNTU5Nzg2MjIlMjZhc19zZHQlM0QyMDA1JTI2c2Npb2R0JTNEMCUyQzUlMjZobCUzRGVuJTI3JTI5JTNC\")));\n",
       "    "
      ],
      "text/plain": [
       "<IPython.core.display.Javascript object>"
      ]
     },
     "metadata": {},
     "output_type": "display_data"
    },
    {
     "data": {
      "application/javascript": [
       "$('span:contains(\"# Temp\")').closest('.cell').remove();"
      ],
      "text/plain": [
       "<IPython.core.display.Javascript object>"
      ]
     },
     "metadata": {},
     "output_type": "display_data"
    },
    {
     "data": {
      "application/javascript": [
       "\n",
       "        $('span:contains(\"# Temp\")').closest('.cell').remove();\n",
       "        var code = IPython.notebook.insert_cell_below('code');\n",
       "        code.set_text(decodeURIComponent(window.atob(\"JTIzJTIwVGVtcCUwQWluc2VydCUyOCUyNyUyNyUyNyUyNyUyNyUyNyUyOSUzQiUwQXNldF9hdHRyaWJ1dGUlMjglMjdzdWx0YW5hMjAxMmElMjclMkMlMjAlMjdjbHVzdGVyX2lkJTI3JTJDJTIwJTI3NzE5NDUxMjQ4MzI1NTk3ODYyMiUyNyUyOSUzQiUwQXNldF9hdHRyaWJ1dGUlMjglMjdzdWx0YW5hMjAxMmElMjclMkMlMjAlMjdzY2hvbGFyJTI3JTJDJTIwJTI3aHR0cCUzQS8vc2Nob2xhci5nb29nbGUuY29tL3NjaG9sYXIlM0ZjaXRlcyUzRDcxOTQ1MTI0ODMyNTU5Nzg2MjIlMjZhc19zZHQlM0QyMDA1JTI2c2Npb2R0JTNEMCUyQzUlMjZobCUzRGVuJTI3JTI5JTNC\")));\n",
       "    "
      ],
      "text/plain": [
       "<IPython.core.display.Javascript object>"
      ]
     },
     "metadata": {},
     "output_type": "display_data"
    },
    {
     "data": {
      "application/javascript": [
       "$('span:contains(\"# Temp\")').closest('.cell').remove();"
      ],
      "text/plain": [
       "<IPython.core.display.Javascript object>"
      ]
     },
     "metadata": {},
     "output_type": "display_data"
    },
    {
     "data": {
      "application/javascript": [
       "\n",
       "        $('span:contains(\"# Temp\")').closest('.cell').remove();\n",
       "        var code = IPython.notebook.insert_cell_below('code');\n",
       "        code.set_text(decodeURIComponent(window.atob(\"JTIzJTIwVGVtcCUwQWluc2VydCUyOCUyNyUyNyUyNyUyNyUyNyUyNyUyOSUzQiUwQXNldF9hdHRyaWJ1dGUlMjglMjdzdWx0YW5hMjAxMmElMjclMkMlMjAlMjdjbHVzdGVyX2lkJTI3JTJDJTIwJTI3NzE5NDUxMjQ4MzI1NTk3ODYyMiUyNyUyOSUzQiUwQXNldF9hdHRyaWJ1dGUlMjglMjdzdWx0YW5hMjAxMmElMjclMkMlMjAlMjdzY2hvbGFyJTI3JTJDJTIwJTI3aHR0cCUzQS8vc2Nob2xhci5nb29nbGUuY29tL3NjaG9sYXIlM0ZjaXRlcyUzRDcxOTQ1MTI0ODMyNTU5Nzg2MjIlMjZhc19zZHQlM0QyMDA1JTI2c2Npb2R0JTNEMCUyQzUlMjZobCUzRGVuJTI3JTI5JTNC\")));\n",
       "    "
      ],
      "text/plain": [
       "<IPython.core.display.Javascript object>"
      ]
     },
     "metadata": {},
     "output_type": "display_data"
    },
    {
     "data": {
      "application/javascript": [
       "$('span:contains(\"# Temp\")').closest('.cell').remove();"
      ],
      "text/plain": [
       "<IPython.core.display.Javascript object>"
      ]
     },
     "metadata": {},
     "output_type": "display_data"
    },
    {
     "data": {
      "application/javascript": [
       "\n",
       "        $('span:contains(\"# Temp\")').closest('.cell').remove();\n",
       "        var code = IPython.notebook.insert_cell_below('code');\n",
       "        code.set_text(decodeURIComponent(window.atob(\"JTIzJTIwVGVtcCUwQWluc2VydCUyOCUyNyUyNyUyNyUyNyUyNyUyNyUyOSUzQiUwQXNldF9hdHRyaWJ1dGUlMjglMjdzdWx0YW5hMjAxMmElMjclMkMlMjAlMjdjbHVzdGVyX2lkJTI3JTJDJTIwJTI3Mzc3NjIzMTQ1OTY1MzAwMTcxOSUyNyUyOSUzQiUwQXNldF9hdHRyaWJ1dGUlMjglMjdzdWx0YW5hMjAxMmElMjclMkMlMjAlMjdzY2hvbGFyJTI3JTJDJTIwJTI3aHR0cCUzQS8vc2Nob2xhci5nb29nbGUuY29tL3NjaG9sYXIlM0ZjaXRlcyUzRDM3NzYyMzE0NTk2NTMwMDE3MTklMjZhc19zZHQlM0QyMDA1JTI2c2Npb2R0JTNEMCUyQzUlMjZobCUzRGVuJTI3JTI5JTNC\")));\n",
       "    "
      ],
      "text/plain": [
       "<IPython.core.display.Javascript object>"
      ]
     },
     "metadata": {},
     "output_type": "display_data"
    },
    {
     "data": {
      "application/javascript": [
       "$('span:contains(\"# Temp\")').closest('.cell').remove();"
      ],
      "text/plain": [
       "<IPython.core.display.Javascript object>"
      ]
     },
     "metadata": {},
     "output_type": "display_data"
    },
    {
     "data": {
      "application/javascript": [
       "\n",
       "        $('span:contains(\"# Temp\")').closest('.cell').remove();\n",
       "        var code = IPython.notebook.insert_cell_below('code');\n",
       "        code.set_text(decodeURIComponent(window.atob(\"JTIzJTIwVGVtcCUwQWluc2VydCUyOCUyNyUyNyUyNyUyNyUyNyUyNyUyOSUzQiUwQXNldF9hdHRyaWJ1dGUlMjglMjdzdWx0YW5hMjAxMmElMjclMkMlMjAlMjdjbHVzdGVyX2lkJTI3JTJDJTIwJTI3Mzc3NjIzMTQ1OTY1MzAwMTcxOSUyNyUyOSUzQiUwQXNldF9hdHRyaWJ1dGUlMjglMjdzdWx0YW5hMjAxMmElMjclMkMlMjAlMjdzY2hvbGFyJTI3JTJDJTIwJTI3aHR0cCUzQS8vc2Nob2xhci5nb29nbGUuY29tL3NjaG9sYXIlM0ZjaXRlcyUzRDM3NzYyMzE0NTk2NTMwMDE3MTklMjZhc19zZHQlM0QyMDA1JTI2c2Npb2R0JTNEMCUyQzUlMjZobCUzRGVuJTI3JTI5JTNC\")));\n",
       "    "
      ],
      "text/plain": [
       "<IPython.core.display.Javascript object>"
      ]
     },
     "metadata": {},
     "output_type": "display_data"
    },
    {
     "data": {
      "application/javascript": [
       "$('span:contains(\"# Temp\")').closest('.cell').remove();"
      ],
      "text/plain": [
       "<IPython.core.display.Javascript object>"
      ]
     },
     "metadata": {},
     "output_type": "display_data"
    },
    {
     "data": {
      "application/javascript": [
       "\n",
       "        $('span:contains(\"# Temp\")').closest('.cell').remove();\n",
       "        var code = IPython.notebook.insert_cell_below('code');\n",
       "        code.set_text(decodeURIComponent(window.atob(\"JTIzJTIwVGVtcCUwQWluc2VydCUyOCUyNyUyNyUyNyUyNyUyNyUyNyUyOSUzQiUwQXNldF9hdHRyaWJ1dGUlMjglMjdzdWx0YW5hMjAxMmElMjclMkMlMjAlMjdjbHVzdGVyX2lkJTI3JTJDJTIwJTI3NzE5NDUxMjQ4MzI1NTk3ODYyMiUyNyUyOSUzQiUwQXNldF9hdHRyaWJ1dGUlMjglMjdzdWx0YW5hMjAxMmElMjclMkMlMjAlMjdzY2hvbGFyJTI3JTJDJTIwJTI3aHR0cCUzQS8vc2Nob2xhci5nb29nbGUuY29tL3NjaG9sYXIlM0ZjaXRlcyUzRDcxOTQ1MTI0ODMyNTU5Nzg2MjIlMjZhc19zZHQlM0QyMDA1JTI2c2Npb2R0JTNEMCUyQzUlMjZobCUzRGVuJTI3JTI5JTNC\")));\n",
       "    "
      ],
      "text/plain": [
       "<IPython.core.display.Javascript object>"
      ]
     },
     "metadata": {},
     "output_type": "display_data"
    },
    {
     "data": {
      "application/javascript": [
       "$('span:contains(\"# Temp\")').closest('.cell').remove();"
      ],
      "text/plain": [
       "<IPython.core.display.Javascript object>"
      ]
     },
     "metadata": {},
     "output_type": "display_data"
    },
    {
     "data": {
      "application/javascript": [
       "\n",
       "        $('span:contains(\"# Temp\")').closest('.cell').remove();\n",
       "        var code = IPython.notebook.insert_cell_below('code');\n",
       "        code.set_text(decodeURIComponent(window.atob(\"JTIzJTIwVGVtcCUwQWluc2VydCUyOCUyNyUyNyUyNyUyNyUyNyUyNyUyOSUzQiUwQXNldF9hdHRyaWJ1dGUlMjglMjdzdWx0YW5hMjAxMmElMjclMkMlMjAlMjdjbHVzdGVyX2lkJTI3JTJDJTIwJTI3NzE5NDUxMjQ4MzI1NTk3ODYyMiUyNyUyOSUzQiUwQXNldF9hdHRyaWJ1dGUlMjglMjdzdWx0YW5hMjAxMmElMjclMkMlMjAlMjdzY2hvbGFyJTI3JTJDJTIwJTI3aHR0cCUzQS8vc2Nob2xhci5nb29nbGUuY29tL3NjaG9sYXIlM0ZjaXRlcyUzRDcxOTQ1MTI0ODMyNTU5Nzg2MjIlMjZhc19zZHQlM0QyMDA1JTI2c2Npb2R0JTNEMCUyQzUlMjZobCUzRGVuJTI3JTI5JTNC\")));\n",
       "    "
      ],
      "text/plain": [
       "<IPython.core.display.Javascript object>"
      ]
     },
     "metadata": {},
     "output_type": "display_data"
    },
    {
     "data": {
      "application/javascript": [
       "$('span:contains(\"# Temp\")').closest('.cell').remove();"
      ],
      "text/plain": [
       "<IPython.core.display.Javascript object>"
      ]
     },
     "metadata": {},
     "output_type": "display_data"
    },
    {
     "data": {
      "application/javascript": [
       "\n",
       "        $('span:contains(\"# Temp\")').closest('.cell').remove();\n",
       "        var code = IPython.notebook.insert_cell_below('code');\n",
       "        code.set_text(decodeURIComponent(window.atob(\"JTIzJTIwVGVtcCUwQWluc2VydCUyOCUyNyUyNyUyNyUyNyUyNyUyNyUyOSUzQiUwQXNldF9hdHRyaWJ1dGUlMjglMjdzdWx0YW5hMjAxMmElMjclMkMlMjAlMjdjbHVzdGVyX2lkJTI3JTJDJTIwJTI3Mzc3NjIzMTQ1OTY1MzAwMTcxOSUyNyUyOSUzQiUwQXNldF9hdHRyaWJ1dGUlMjglMjdzdWx0YW5hMjAxMmElMjclMkMlMjAlMjdzY2hvbGFyJTI3JTJDJTIwJTI3aHR0cCUzQS8vc2Nob2xhci5nb29nbGUuY29tL3NjaG9sYXIlM0ZjaXRlcyUzRDM3NzYyMzE0NTk2NTMwMDE3MTklMjZhc19zZHQlM0QyMDA1JTI2c2Npb2R0JTNEMCUyQzUlMjZobCUzRGVuJTI3JTI5JTNC\")));\n",
       "    "
      ],
      "text/plain": [
       "<IPython.core.display.Javascript object>"
      ]
     },
     "metadata": {},
     "output_type": "display_data"
    },
    {
     "data": {
      "application/javascript": [
       "$('span:contains(\"# Temp\")').closest('.cell').remove();"
      ],
      "text/plain": [
       "<IPython.core.display.Javascript object>"
      ]
     },
     "metadata": {},
     "output_type": "display_data"
    },
    {
     "data": {
      "application/javascript": [
       "\n",
       "        $('span:contains(\"# Temp\")').closest('.cell').remove();\n",
       "        var code = IPython.notebook.insert_cell_below('code');\n",
       "        code.set_text(decodeURIComponent(window.atob(\"JTIzJTIwVGVtcCUwQWluc2VydCUyOCUyNyUyNyUyNyUyNyUyNyUyNyUyOSUzQiUwQXNldF9hdHRyaWJ1dGUlMjglMjdzdWx0YW5hMjAxMmElMjclMkMlMjAlMjdjbHVzdGVyX2lkJTI3JTJDJTIwJTI3Mzc3NjIzMTQ1OTY1MzAwMTcxOSUyNyUyOSUzQiUwQXNldF9hdHRyaWJ1dGUlMjglMjdzdWx0YW5hMjAxMmElMjclMkMlMjAlMjdzY2hvbGFyJTI3JTJDJTIwJTI3aHR0cCUzQS8vc2Nob2xhci5nb29nbGUuY29tL3NjaG9sYXIlM0ZjaXRlcyUzRDM3NzYyMzE0NTk2NTMwMDE3MTklMjZhc19zZHQlM0QyMDA1JTI2c2Npb2R0JTNEMCUyQzUlMjZobCUzRGVuJTI3JTI5JTNC\")));\n",
       "    "
      ],
      "text/plain": [
       "<IPython.core.display.Javascript object>"
      ]
     },
     "metadata": {},
     "output_type": "display_data"
    },
    {
     "data": {
      "application/javascript": [
       "$('span:contains(\"# Temp\")').closest('.cell').remove();"
      ],
      "text/plain": [
       "<IPython.core.display.Javascript object>"
      ]
     },
     "metadata": {},
     "output_type": "display_data"
    },
    {
     "data": {
      "application/javascript": [
       "\n",
       "        $('span:contains(\"# Temp\")').closest('.cell').remove();\n",
       "        var code = IPython.notebook.insert_cell_below('code');\n",
       "        code.set_text(decodeURIComponent(window.atob(\"JTIzJTIwVGVtcCUwQWluc2VydCUyOCUyNyUyNyUyNyUyNyUyNyUyNyUyOSUzQiUwQXNldF9hdHRyaWJ1dGUlMjglMjdzdWx0YW5hMjAxMmElMjclMkMlMjAlMjdjbHVzdGVyX2lkJTI3JTJDJTIwJTI3NzE5NDUxMjQ4MzI1NTk3ODYyMiUyNyUyOSUzQiUwQXNldF9hdHRyaWJ1dGUlMjglMjdzdWx0YW5hMjAxMmElMjclMkMlMjAlMjdzY2hvbGFyJTI3JTJDJTIwJTI3aHR0cCUzQS8vc2Nob2xhci5nb29nbGUuY29tL3NjaG9sYXIlM0ZjaXRlcyUzRDcxOTQ1MTI0ODMyNTU5Nzg2MjIlMjZhc19zZHQlM0QyMDA1JTI2c2Npb2R0JTNEMCUyQzUlMjZobCUzRGVuJTI3JTI5JTNC\")));\n",
       "    "
      ],
      "text/plain": [
       "<IPython.core.display.Javascript object>"
      ]
     },
     "metadata": {},
     "output_type": "display_data"
    },
    {
     "data": {
      "application/javascript": [
       "$('span:contains(\"# Temp\")').closest('.cell').remove();"
      ],
      "text/plain": [
       "<IPython.core.display.Javascript object>"
      ]
     },
     "metadata": {},
     "output_type": "display_data"
    },
    {
     "data": {
      "application/javascript": [
       "\n",
       "        $('span:contains(\"# Temp\")').closest('.cell').remove();\n",
       "        var code = IPython.notebook.insert_cell_below('code');\n",
       "        code.set_text(decodeURIComponent(window.atob(\"JTIzJTIwVGVtcCUwQWluc2VydCUyOCUyNyUyNyUyNyUyNyUyNyUyNyUyOSUzQiUwQXNldF9hdHRyaWJ1dGUlMjglMjdzdWx0YW5hMjAxMmElMjclMkMlMjAlMjdjbHVzdGVyX2lkJTI3JTJDJTIwJTI3NzE5NDUxMjQ4MzI1NTk3ODYyMiUyNyUyOSUzQiUwQXNldF9hdHRyaWJ1dGUlMjglMjdzdWx0YW5hMjAxMmElMjclMkMlMjAlMjdzY2hvbGFyJTI3JTJDJTIwJTI3aHR0cCUzQS8vc2Nob2xhci5nb29nbGUuY29tL3NjaG9sYXIlM0ZjaXRlcyUzRDcxOTQ1MTI0ODMyNTU5Nzg2MjIlMjZhc19zZHQlM0QyMDA1JTI2c2Npb2R0JTNEMCUyQzUlMjZobCUzRGVuJTI3JTI5JTNC\")));\n",
       "    "
      ],
      "text/plain": [
       "<IPython.core.display.Javascript object>"
      ]
     },
     "metadata": {},
     "output_type": "display_data"
    },
    {
     "data": {
      "application/javascript": [
       "$('span:contains(\"# Temp\")').closest('.cell').remove();"
      ],
      "text/plain": [
       "<IPython.core.display.Javascript object>"
      ]
     },
     "metadata": {},
     "output_type": "display_data"
    },
    {
     "data": {
      "application/javascript": [
       "\n",
       "        $('span:contains(\"# Temp\")').closest('.cell').remove();\n",
       "        var code = IPython.notebook.insert_cell_below('code');\n",
       "        code.set_text(decodeURIComponent(window.atob(\"JTIzJTIwVGVtcCUwQWluc2VydCUyOCUyNyUyNyUyNyUyNyUyNyUyNyUyOSUzQg==\")));\n",
       "    "
      ],
      "text/plain": [
       "<IPython.core.display.Javascript object>"
      ]
     },
     "metadata": {},
     "output_type": "display_data"
    }
   ],
   "source": [
    "manager.browser()"
   ]
  }
 ],
 "metadata": {
  "kernelspec": {
   "display_name": "Python 3",
   "language": "python",
   "name": "python3"
  },
  "language_info": {
   "codemirror_mode": {
    "name": "ipython",
    "version": 3
   },
   "file_extension": ".py",
   "mimetype": "text/x-python",
   "name": "python",
   "nbconvert_exporter": "python",
   "pygments_lexer": "ipython3",
   "version": "3.6.1"
  },
  "toc": {
   "nav_menu": {},
   "number_sections": true,
   "sideBar": true,
   "skip_h1_title": false,
   "title_cell": "Table of Contents",
   "title_sidebar": "Contents",
   "toc_cell": false,
   "toc_position": {},
   "toc_section_display": "block",
   "toc_window_display": false
  }
 },
 "nbformat": 4,
 "nbformat_minor": 2
}
