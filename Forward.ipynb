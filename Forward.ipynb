{
 "cells": [
  {
   "cell_type": "code",
   "execution_count": 1,
   "metadata": {
    "collapsed": true
   },
   "outputs": [],
   "source": [
    "import database\n",
    "import custom_jupyter_utils\n",
    "from snowballing.operations import load_work, reload, work_by_varname\n",
    "from snowballing.selenium_scholar import SeleniumScholarQuerier\n",
    "from snowballing.snowballing import ForwardSnowballing\n",
    "from snowballing.dbmanager import insert, set_attribute"
   ]
  },
  {
   "cell_type": "code",
   "execution_count": 2,
   "metadata": {
    "collapsed": true
   },
   "outputs": [],
   "source": [
    "querier = SeleniumScholarQuerier()"
   ]
  },
  {
   "cell_type": "code",
   "execution_count": 3,
   "metadata": {
    "scrolled": true
   },
   "outputs": [
    {
     "name": "stderr",
     "output_type": "stream",
     "text": [
      "[ INFO]  settings applied\n"
     ]
    },
    {
     "data": {
      "text/plain": [
       "<snowballing.selenium_scholar.SeleniumScholarQuerier at 0x2848c426c50>"
      ]
     },
     "execution_count": 3,
     "metadata": {},
     "output_type": "execute_result"
    }
   ],
   "source": [
    "querier.apply_settings(20, 4)"
   ]
  },
  {
   "cell_type": "code",
   "execution_count": 484,
   "metadata": {},
   "outputs": [],
   "source": [
    "manager = ForwardSnowballing(querier, \"hoekstra2014a\", citation_file=\"hoekstra2014a\", start=0)"
   ]
  },
  {
   "cell_type": "code",
   "execution_count": 485,
   "metadata": {
    "scrolled": false
   },
   "outputs": [
    {
     "data": {
      "application/vnd.jupyter.widget-view+json": {
       "model_id": "caea2dcb0f6a47468696e141dbe1221a",
       "version_major": 2,
       "version_minor": 0
      },
      "text/plain": [
       "A Jupyter Widget"
      ]
     },
     "metadata": {},
     "output_type": "display_data"
    },
    {
     "data": {
      "application/javascript": [
       "$('span:contains(\"# Temp\")').closest('.cell').remove();"
      ],
      "text/plain": [
       "<IPython.core.display.Javascript object>"
      ]
     },
     "metadata": {},
     "output_type": "display_data"
    },
    {
     "data": {
      "application/javascript": [
       "\n",
       "        $('span:contains(\"# Temp\")').closest('.cell').remove();\n",
       "        var code = IPython.notebook.insert_cell_below('code');\n",
       "        var prompt = code.element.find(\".input_prompt\");\n",
       "        prompt.append('<br><button style=\"height: 100%; width: 54px;\">Run</button>');\n",
       "        prompt.on(\"click\", \"button\", function(){\n",
       "            code.execute();\n",
       "        });\n",
       "        code.set_text(decodeURIComponent(window.atob(\"JTIzJTIwVGVtcCUwQWluc2VydCUyOCUyNyUyNyUyNyUwQWdhcmlqbzIwMTRiJTIwJTNEJTIwREIlMjhXb3JrJTI4JTBBJTIwJTIwJTIwJTIwMjAxNCUyQyUyMCUyMlRvd2FyZHMlMjB3b3JrZmxvdyUyMGVjb3N5c3RlbXMlMjB0aHJvdWdoJTIwc2VtYW50aWMlMjBhbmQlMjBzdGFuZGFyZCUyMHJlcHJlc2VudGF0aW9ucyUyMiUyQyUwQSUyMCUyMCUyMCUyMGRpc3BsYXklM0QlMjJnYXJpam8lMjBiJTIyJTJDJTBBJTIwJTIwJTIwJTIwYXV0aG9ycyUzRCUyMkdhcmlqbyUyQyUyMERhbmllbCUyMGFuZCUyMEdpbCUyQyUyMFlvbGFuZGElMjBhbmQlMjBDb3JjaG8lMkMlMjBPc2NhciUyMiUyQyUwQSUyMCUyMCUyMCUyMHBsYWNlJTNEV09SS1MlMkMlMEElMjAlMjAlMjAlMjBwcCUzRCUyMjk0LS0xMDQlMjIlMkMlMEElMjAlMjAlMjAlMjBlbnRyeXR5cGUlM0QlMjJpbnByb2NlZWRpbmdzJTIyJTJDJTBBJTIwJTIwJTIwJTIwb3JnYW5pemF0aW9uJTNEJTIySUVFRSUyMFByZXNzJTIyJTJDJTBBJTIwJTIwJTIwJTIwSUQlM0QlMjJnYXJpam8yMDE0dG93YXJkcyUyMiUyQyUwQSUyMCUyMCUyMCUyMGNsdXN0ZXJfaWQlM0QlMjIyOTY4NTM1MjExMjAxNTg4Mzc3JTIyJTJDJTBBJTIwJTIwJTIwJTIwc2Nob2xhciUzRCUyMmh0dHAlM0EvL3NjaG9sYXIuZ29vZ2xlLmNvbS9zY2hvbGFyJTNGY2l0ZXMlM0QyOTY4NTM1MjExMjAxNTg4Mzc3JTI2YXNfc2R0JTNEMjAwNSUyNnNjaW9kdCUzRDAlMkM1JTI2aGwlM0RlbiUyMiUyQyUwQSUyOSUyOSUwQSUwQURCJTI4Q2l0YXRpb24lMjglMEElMjAlMjAlMjAlMjBnYXJpam8yMDE0YiUyQyUyMGhvZWtzdHJhMjAxNGElMkMlMjByZWYlM0QlMjIlMjIlMkMlMEElMjAlMjAlMjAlMjBjb250ZXh0cyUzRCU1QiUwQSUwQSUyMCUyMCUyMCUyMCU1RCUyQyUwQSUyOSUyOSUwQSUwQSUyNyUyNyUyNyUyQyUyMGNpdGF0aW9ucyUzRCUyN2hvZWtzdHJhMjAxNGElMjclMjklM0I=\")));\n",
       "    "
      ],
      "text/plain": [
       "<IPython.core.display.Javascript object>"
      ]
     },
     "metadata": {},
     "output_type": "display_data"
    },
    {
     "data": {
      "application/javascript": [
       "$('span:contains(\"# Temp\")').closest('.cell').remove();"
      ],
      "text/plain": [
       "<IPython.core.display.Javascript object>"
      ]
     },
     "metadata": {},
     "output_type": "display_data"
    },
    {
     "data": {
      "application/javascript": [
       "\n",
       "        $('span:contains(\"# Temp\")').closest('.cell').remove();\n",
       "        var code = IPython.notebook.insert_cell_below('code');\n",
       "        var prompt = code.element.find(\".input_prompt\");\n",
       "        prompt.append('<br><button style=\"height: 100%; width: 54px;\">Run</button>');\n",
       "        prompt.on(\"click\", \"button\", function(){\n",
       "            code.execute();\n",
       "        });\n",
       "        code.set_text(decodeURIComponent(window.atob(\"JTIzJTIwVGVtcCUwQWluc2VydCUyOCUyNyUyNyUyNyUwQURCJTI4Q2l0YXRpb24lMjglMEElMjAlMjAlMjAlMjBtYTIwMThhJTJDJTIwaG9la3N0cmEyMDE0YSUyQyUyMHJlZiUzRCUyMiUyMiUyQyUwQSUyMCUyMCUyMCUyMGNvbnRleHRzJTNEJTVCJTBBJTBBJTIwJTIwJTIwJTIwJTVEJTJDJTBBJTI5JTI5JTBBJTBBJTI3JTI3JTI3JTJDJTIwY2l0YXRpb25zJTNEJTI3aG9la3N0cmEyMDE0YSUyNyUyOSUzQg==\")));\n",
       "    "
      ],
      "text/plain": [
       "<IPython.core.display.Javascript object>"
      ]
     },
     "metadata": {},
     "output_type": "display_data"
    },
    {
     "data": {
      "application/javascript": [
       "$('span:contains(\"# Temp\")').closest('.cell').remove();"
      ],
      "text/plain": [
       "<IPython.core.display.Javascript object>"
      ]
     },
     "metadata": {},
     "output_type": "display_data"
    },
    {
     "data": {
      "application/javascript": [
       "\n",
       "        $('span:contains(\"# Temp\")').closest('.cell').remove();\n",
       "        var code = IPython.notebook.insert_cell_below('code');\n",
       "        var prompt = code.element.find(\".input_prompt\");\n",
       "        prompt.append('<br><button style=\"height: 100%; width: 54px;\">Run</button>');\n",
       "        prompt.on(\"click\", \"button\", function(){\n",
       "            code.execute();\n",
       "        });\n",
       "        code.set_text(decodeURIComponent(window.atob(\"JTIzJTIwVGVtcCUwQWluc2VydCUyOCUyNyUyNyUyNyUwQURCJTI4Q2l0YXRpb24lMjglMEElMjAlMjAlMjAlMjBtYTIwMThhJTJDJTIwaG9la3N0cmEyMDE0YSUyQyUyMHJlZiUzRCUyMiUyMiUyQyUwQSUyMCUyMCUyMCUyMGNvbnRleHRzJTNEJTVCJTBBJTBBJTIwJTIwJTIwJTIwJTVEJTJDJTBBJTI5JTI5JTBBJTBBJTI3JTI3JTI3JTJDJTIwY2l0YXRpb25zJTNEJTI3aG9la3N0cmEyMDE0YSUyNyUyOSUzQg==\")));\n",
       "    "
      ],
      "text/plain": [
       "<IPython.core.display.Javascript object>"
      ]
     },
     "metadata": {},
     "output_type": "display_data"
    },
    {
     "data": {
      "application/javascript": [
       "$('span:contains(\"# Temp\")').closest('.cell').remove();"
      ],
      "text/plain": [
       "<IPython.core.display.Javascript object>"
      ]
     },
     "metadata": {},
     "output_type": "display_data"
    },
    {
     "data": {
      "application/javascript": [
       "\n",
       "        $('span:contains(\"# Temp\")').closest('.cell').remove();\n",
       "        var code = IPython.notebook.insert_cell_below('code');\n",
       "        var prompt = code.element.find(\".input_prompt\");\n",
       "        prompt.append('<br><button style=\"height: 100%; width: 54px;\">Run</button>');\n",
       "        prompt.on(\"click\", \"button\", function(){\n",
       "            code.execute();\n",
       "        });\n",
       "        code.set_text(decodeURIComponent(window.atob(\"JTIzJTIwVGVtcCUwQWluc2VydCUyOCUyNyUyNyUyNyUwQXBoaWxsaXBzMjAxNWElMjAlM0QlMjBEQiUyOFdvcmslMjglMEElMjAlMjAlMjAlMjAyMDE1JTJDJTIwJTIyTGlua2luZyUyMHF1YWxpdHklMjBvZiUyMHNlcnZpY2UlMjBhbmQlMjBleHBlcmllbmNlJTIwaW4lMjBkaXN0cmlidXRlZCUyMG11bHRpbWVkaWElMjBzeXN0ZW1zJTIwdXNpbmclMjBQUk9WJTIwc2VtYW50aWNzJTIyJTJDJTBBJTIwJTIwJTIwJTIwZGlzcGxheSUzRCUyMnBoaWxsaXBzJTIyJTJDJTBBJTIwJTIwJTIwJTIwYXV0aG9ycyUzRCUyMlBoaWxsaXBzJTJDJTIwU3RlcGhlbiUyMEMlMjBhbmQlMjBCYXNoZXZveSUyQyUyME1heGltJTIwYW5kJTIwQm9uaWZhY2UlMkMlMjBNaWNoYWVsJTIwYW5kJTIwQ3Jvd2xlJTJDJTIwU2ltb24lMjBhbmQlMjBFbmdlbiUyQyUyMFZlZ2FyZCUyMGFuZCUyMFNpbmthbGElMkMlMjBaaXBhbmklMjBhbmQlMjBXaWVnYW5kJTJDJTIwU3RlZmFuaWUlMjIlMkMlMEElMjAlMjAlMjAlMjBwcCUzRCUyMjExNy0tMTI2JTIyJTJDJTBBJTIwJTIwJTIwJTIwcGxhY2UxJTNEJTIyU2VydmljZS1PcmllbnRlZCUyMFN5c3RlbSUyMEVuZ2luZWVyaW5nJTIwJTI4U09TRSUyOSUyQyUyMDIwMTUlMjBJRUVFJTIwU3ltcG9zaXVtJTIwb24lMjIlMkMlMEElMjAlMjAlMjAlMjBlbnRyeXR5cGUlM0QlMjJpbnByb2NlZWRpbmdzJTIyJTJDJTBBJTIwJTIwJTIwJTIwb3JnYW5pemF0aW9uJTNEJTIySUVFRSUyMiUyQyUwQSUyMCUyMCUyMCUyMElEJTNEJTIycGhpbGxpcHMyMDE1bGlua2luZyUyMiUyQyUwQSUyMCUyMCUyMCUyMGNsdXN0ZXJfaWQlM0QlMjIxNjg3ODE1NTAzMzcxODE2MjM5NSUyMiUyQyUwQSUyMCUyMCUyMCUyMHNjaG9sYXIlM0QlMjJodHRwJTNBLy9zY2hvbGFyLmdvb2dsZS5jb20vc2Nob2xhciUzRmNpdGVzJTNEMTY4NzgxNTUwMzM3MTgxNjIzOTUlMjZhc19zZHQlM0QyMDA1JTI2c2Npb2R0JTNEMCUyQzUlMjZobCUzRGVuJTIyJTJDJTBBJTI5JTI5JTBBJTBBREIlMjhDaXRhdGlvbiUyOCUwQSUyMCUyMCUyMCUyMHBoaWxsaXBzMjAxNWElMkMlMjBob2Vrc3RyYTIwMTRhJTJDJTIwcmVmJTNEJTIyJTIyJTJDJTBBJTIwJTIwJTIwJTIwY29udGV4dHMlM0QlNUIlMEElMEElMjAlMjAlMjAlMjAlNUQlMkMlMEElMjklMjklMEElMEElMjclMjclMjclMkMlMjBjaXRhdGlvbnMlM0QlMjdob2Vrc3RyYTIwMTRhJTI3JTI5JTNC\")));\n",
       "    "
      ],
      "text/plain": [
       "<IPython.core.display.Javascript object>"
      ]
     },
     "metadata": {},
     "output_type": "display_data"
    },
    {
     "data": {
      "application/javascript": [
       "$('span:contains(\"# Temp\")').closest('.cell').remove();"
      ],
      "text/plain": [
       "<IPython.core.display.Javascript object>"
      ]
     },
     "metadata": {},
     "output_type": "display_data"
    },
    {
     "data": {
      "application/javascript": [
       "\n",
       "        $('span:contains(\"# Temp\")').closest('.cell').remove();\n",
       "        var code = IPython.notebook.insert_cell_below('code');\n",
       "        var prompt = code.element.find(\".input_prompt\");\n",
       "        prompt.append('<br><button style=\"height: 100%; width: 54px;\">Run</button>');\n",
       "        prompt.on(\"click\", \"button\", function(){\n",
       "            code.execute();\n",
       "        });\n",
       "        code.set_text(decodeURIComponent(window.atob(\"JTIzJTIwVGVtcCUwQWluc2VydCUyOCUyNyUyNyUyNyUwQXBoaWxsaXBzMjAxNWElMjAlM0QlMjBEQiUyOFdvcmslMjglMEElMjAlMjAlMjAlMjAyMDE1JTJDJTIwJTIyTGlua2luZyUyMHF1YWxpdHklMjBvZiUyMHNlcnZpY2UlMjBhbmQlMjBleHBlcmllbmNlJTIwaW4lMjBkaXN0cmlidXRlZCUyMG11bHRpbWVkaWElMjBzeXN0ZW1zJTIwdXNpbmclMjBQUk9WJTIwc2VtYW50aWNzJTIyJTJDJTBBJTIwJTIwJTIwJTIwZGlzcGxheSUzRCUyMnBoaWxsaXBzJTIyJTJDJTBBJTIwJTIwJTIwJTIwYXV0aG9ycyUzRCUyMlBoaWxsaXBzJTJDJTIwU3RlcGhlbiUyMEMlMjBhbmQlMjBCYXNoZXZveSUyQyUyME1heGltJTIwYW5kJTIwQm9uaWZhY2UlMkMlMjBNaWNoYWVsJTIwYW5kJTIwQ3Jvd2xlJTJDJTIwU2ltb24lMjBhbmQlMjBFbmdlbiUyQyUyMFZlZ2FyZCUyMGFuZCUyMFNpbmthbGElMkMlMjBaaXBhbmklMjBhbmQlMjBXaWVnYW5kJTJDJTIwU3RlZmFuaWUlMjIlMkMlMEElMjAlMjAlMjAlMjBwcCUzRCUyMjExNy0tMTI2JTIyJTJDJTBBJTIwJTIwJTIwJTIwcGxhY2UxJTNEJTIyU2VydmljZS1PcmllbnRlZCUyMFN5c3RlbSUyMEVuZ2luZWVyaW5nJTIwJTI4U09TRSUyOSUyQyUyMDIwMTUlMjBJRUVFJTIwU3ltcG9zaXVtJTIwb24lMjIlMkMlMEElMjAlMjAlMjAlMjBlbnRyeXR5cGUlM0QlMjJpbnByb2NlZWRpbmdzJTIyJTJDJTBBJTIwJTIwJTIwJTIwb3JnYW5pemF0aW9uJTNEJTIySUVFRSUyMiUyQyUwQSUyMCUyMCUyMCUyMElEJTNEJTIycGhpbGxpcHMyMDE1bGlua2luZyUyMiUyQyUwQSUyMCUyMCUyMCUyMGNsdXN0ZXJfaWQlM0QlMjIxNjg3ODE1NTAzMzcxODE2MjM5NSUyMiUyQyUwQSUyMCUyMCUyMCUyMHNjaG9sYXIlM0QlMjJodHRwJTNBLy9zY2hvbGFyLmdvb2dsZS5jb20vc2Nob2xhciUzRmNpdGVzJTNEMTY4NzgxNTUwMzM3MTgxNjIzOTUlMjZhc19zZHQlM0QyMDA1JTI2c2Npb2R0JTNEMCUyQzUlMjZobCUzRGVuJTIyJTJDJTBBJTI5JTI5JTBBJTBBREIlMjhDaXRhdGlvbiUyOCUwQSUyMCUyMCUyMCUyMHBoaWxsaXBzMjAxNWElMkMlMjBob2Vrc3RyYTIwMTRhJTJDJTIwcmVmJTNEJTIyJTIyJTJDJTBBJTIwJTIwJTIwJTIwY29udGV4dHMlM0QlNUIlMEElMEElMjAlMjAlMjAlMjAlNUQlMkMlMEElMjklMjklMEElMEElMjclMjclMjclMkMlMjBjaXRhdGlvbnMlM0QlMjdob2Vrc3RyYTIwMTRhJTI3JTI5JTNC\")));\n",
       "    "
      ],
      "text/plain": [
       "<IPython.core.display.Javascript object>"
      ]
     },
     "metadata": {},
     "output_type": "display_data"
    },
    {
     "data": {
      "application/javascript": [
       "$('span:contains(\"# Temp\")').closest('.cell').remove();"
      ],
      "text/plain": [
       "<IPython.core.display.Javascript object>"
      ]
     },
     "metadata": {},
     "output_type": "display_data"
    },
    {
     "data": {
      "application/javascript": [
       "\n",
       "        $('span:contains(\"# Temp\")').closest('.cell').remove();\n",
       "        var code = IPython.notebook.insert_cell_below('code');\n",
       "        var prompt = code.element.find(\".input_prompt\");\n",
       "        prompt.append('<br><button style=\"height: 100%; width: 54px;\">Run</button>');\n",
       "        prompt.on(\"click\", \"button\", function(){\n",
       "            code.execute();\n",
       "        });\n",
       "        code.set_text(decodeURIComponent(window.atob(\"JTIzJTIwVGVtcCUwQWluc2VydCUyOCUyNyUyNyUyNyUwQXBoaWxsaXBzMjAxNWElMjAlM0QlMjBEQiUyOFdvcmslMjglMEElMjAlMjAlMjAlMjAyMDE1JTJDJTIwJTIyTGlua2luZyUyMHF1YWxpdHklMjBvZiUyMHNlcnZpY2UlMjBhbmQlMjBleHBlcmllbmNlJTIwaW4lMjBkaXN0cmlidXRlZCUyMG11bHRpbWVkaWElMjBzeXN0ZW1zJTIwdXNpbmclMjBQUk9WJTIwc2VtYW50aWNzJTIyJTJDJTBBJTIwJTIwJTIwJTIwZGlzcGxheSUzRCUyMnBoaWxsaXBzJTIyJTJDJTBBJTIwJTIwJTIwJTIwYXV0aG9ycyUzRCUyMlBoaWxsaXBzJTJDJTIwU3RlcGhlbiUyMEMlMjBhbmQlMjBCYXNoZXZveSUyQyUyME1heGltJTIwYW5kJTIwQm9uaWZhY2UlMkMlMjBNaWNoYWVsJTIwYW5kJTIwQ3Jvd2xlJTJDJTIwU2ltb24lMjBhbmQlMjBFbmdlbiUyQyUyMFZlZ2FyZCUyMGFuZCUyMFNpbmthbGElMkMlMjBaaXBhbmklMjBhbmQlMjBXaWVnYW5kJTJDJTIwU3RlZmFuaWUlMjIlMkMlMEElMjAlMjAlMjAlMjBwcCUzRCUyMjExNy0tMTI2JTIyJTJDJTBBJTIwJTIwJTIwJTIwcGxhY2UxJTNEJTIyU2VydmljZS1PcmllbnRlZCUyMFN5c3RlbSUyMEVuZ2luZWVyaW5nJTIwJTI4U09TRSUyOSUyQyUyMDIwMTUlMjBJRUVFJTIwU3ltcG9zaXVtJTIwb24lMjIlMkMlMEElMjAlMjAlMjAlMjBlbnRyeXR5cGUlM0QlMjJpbnByb2NlZWRpbmdzJTIyJTJDJTBBJTIwJTIwJTIwJTIwb3JnYW5pemF0aW9uJTNEJTIySUVFRSUyMiUyQyUwQSUyMCUyMCUyMCUyMElEJTNEJTIycGhpbGxpcHMyMDE1bGlua2luZyUyMiUyQyUwQSUyMCUyMCUyMCUyMGNsdXN0ZXJfaWQlM0QlMjIxNjg3ODE1NTAzMzcxODE2MjM5NSUyMiUyQyUwQSUyMCUyMCUyMCUyMHNjaG9sYXIlM0QlMjJodHRwJTNBLy9zY2hvbGFyLmdvb2dsZS5jb20vc2Nob2xhciUzRmNpdGVzJTNEMTY4NzgxNTUwMzM3MTgxNjIzOTUlMjZhc19zZHQlM0QyMDA1JTI2c2Npb2R0JTNEMCUyQzUlMjZobCUzRGVuJTIyJTJDJTBBJTI5JTI5JTBBJTBBREIlMjhDaXRhdGlvbiUyOCUwQSUyMCUyMCUyMCUyMHBoaWxsaXBzMjAxNWElMkMlMjBob2Vrc3RyYTIwMTRhJTJDJTIwcmVmJTNEJTIyJTIyJTJDJTBBJTIwJTIwJTIwJTIwY29udGV4dHMlM0QlNUIlMEElMEElMjAlMjAlMjAlMjAlNUQlMkMlMEElMjklMjklMEElMEElMjclMjclMjclMkMlMjBjaXRhdGlvbnMlM0QlMjdob2Vrc3RyYTIwMTRhJTI3JTI5JTNC\")));\n",
       "    "
      ],
      "text/plain": [
       "<IPython.core.display.Javascript object>"
      ]
     },
     "metadata": {},
     "output_type": "display_data"
    },
    {
     "data": {
      "application/javascript": [
       "$('span:contains(\"# Temp\")').closest('.cell').remove();"
      ],
      "text/plain": [
       "<IPython.core.display.Javascript object>"
      ]
     },
     "metadata": {},
     "output_type": "display_data"
    },
    {
     "data": {
      "application/javascript": [
       "\n",
       "        $('span:contains(\"# Temp\")').closest('.cell').remove();\n",
       "        var code = IPython.notebook.insert_cell_below('code');\n",
       "        var prompt = code.element.find(\".input_prompt\");\n",
       "        prompt.append('<br><button style=\"height: 100%; width: 54px;\">Run</button>');\n",
       "        prompt.on(\"click\", \"button\", function(){\n",
       "            code.execute();\n",
       "        });\n",
       "        code.set_text(decodeURIComponent(window.atob(\"JTIzJTIwVGVtcCUwQWluc2VydCUyOCUyNyUyNyUyNyUwQXBoaWxsaXBzMjAxNWElMjAlM0QlMjBEQiUyOFdvcmslMjglMEElMjAlMjAlMjAlMjAyMDE1JTJDJTIwJTIyTGlua2luZyUyMHF1YWxpdHklMjBvZiUyMHNlcnZpY2UlMjBhbmQlMjBleHBlcmllbmNlJTIwaW4lMjBkaXN0cmlidXRlZCUyMG11bHRpbWVkaWElMjBzeXN0ZW1zJTIwdXNpbmclMjBQUk9WJTIwc2VtYW50aWNzJTIyJTJDJTBBJTIwJTIwJTIwJTIwZGlzcGxheSUzRCUyMnBoaWxsaXBzJTIyJTJDJTBBJTIwJTIwJTIwJTIwYXV0aG9ycyUzRCUyMlBoaWxsaXBzJTJDJTIwU3RlcGhlbiUyMEMlMjBhbmQlMjBCYXNoZXZveSUyQyUyME1heGltJTIwYW5kJTIwQm9uaWZhY2UlMkMlMjBNaWNoYWVsJTIwYW5kJTIwQ3Jvd2xlJTJDJTIwU2ltb24lMjBhbmQlMjBFbmdlbiUyQyUyMFZlZ2FyZCUyMGFuZCUyMFNpbmthbGElMkMlMjBaaXBhbmklMjBhbmQlMjBXaWVnYW5kJTJDJTIwU3RlZmFuaWUlMjIlMkMlMEElMjAlMjAlMjAlMjBwbGFjZSUzRFNPU0UlMkMlMEElMjAlMjAlMjAlMjBwcCUzRCUyMjExNy0tMTI2JTIyJTJDJTBBJTIwJTIwJTIwJTIwZW50cnl0eXBlJTNEJTIyaW5wcm9jZWVkaW5ncyUyMiUyQyUwQSUyMCUyMCUyMCUyMG9yZ2FuaXphdGlvbiUzRCUyMklFRUUlMjIlMkMlMEElMjAlMjAlMjAlMjBJRCUzRCUyMnBoaWxsaXBzMjAxNWxpbmtpbmclMjIlMkMlMEElMjAlMjAlMjAlMjBjbHVzdGVyX2lkJTNEJTIyMTY4NzgxNTUwMzM3MTgxNjIzOTUlMjIlMkMlMEElMjAlMjAlMjAlMjBzY2hvbGFyJTNEJTIyaHR0cCUzQS8vc2Nob2xhci5nb29nbGUuY29tL3NjaG9sYXIlM0ZjaXRlcyUzRDE2ODc4MTU1MDMzNzE4MTYyMzk1JTI2YXNfc2R0JTNEMjAwNSUyNnNjaW9kdCUzRDAlMkM1JTI2aGwlM0RlbiUyMiUyQyUwQSUyOSUyOSUwQSUwQURCJTI4Q2l0YXRpb24lMjglMEElMjAlMjAlMjAlMjBwaGlsbGlwczIwMTVhJTJDJTIwaG9la3N0cmEyMDE0YSUyQyUyMHJlZiUzRCUyMiUyMiUyQyUwQSUyMCUyMCUyMCUyMGNvbnRleHRzJTNEJTVCJTBBJTBBJTIwJTIwJTIwJTIwJTVEJTJDJTBBJTI5JTI5JTBBJTBBJTI3JTI3JTI3JTJDJTIwY2l0YXRpb25zJTNEJTI3aG9la3N0cmEyMDE0YSUyNyUyOSUzQg==\")));\n",
       "    "
      ],
      "text/plain": [
       "<IPython.core.display.Javascript object>"
      ]
     },
     "metadata": {},
     "output_type": "display_data"
    },
    {
     "data": {
      "application/javascript": [
       "$('span:contains(\"# Temp\")').closest('.cell').remove();"
      ],
      "text/plain": [
       "<IPython.core.display.Javascript object>"
      ]
     },
     "metadata": {},
     "output_type": "display_data"
    },
    {
     "data": {
      "application/javascript": [
       "\n",
       "        $('span:contains(\"# Temp\")').closest('.cell').remove();\n",
       "        var code = IPython.notebook.insert_cell_below('code');\n",
       "        var prompt = code.element.find(\".input_prompt\");\n",
       "        prompt.append('<br><button style=\"height: 100%; width: 54px;\">Run</button>');\n",
       "        prompt.on(\"click\", \"button\", function(){\n",
       "            code.execute();\n",
       "        });\n",
       "        code.set_text(decodeURIComponent(window.atob(\"JTIzJTIwVGVtcCUwQWluc2VydCUyOCUyNyUyNyUyNyUwQURCJTI4Q2l0YXRpb24lMjglMEElMjAlMjAlMjAlMjByaWNoYXJkc29uMjAxNmElMkMlMjBob2Vrc3RyYTIwMTRhJTJDJTIwcmVmJTNEJTIyJTIyJTJDJTBBJTIwJTIwJTIwJTIwY29udGV4dHMlM0QlNUIlMEElMEElMjAlMjAlMjAlMjAlNUQlMkMlMEElMjklMjklMEElMEElMjclMjclMjclMkMlMjBjaXRhdGlvbnMlM0QlMjdob2Vrc3RyYTIwMTRhJTI3JTI5JTNC\")));\n",
       "    "
      ],
      "text/plain": [
       "<IPython.core.display.Javascript object>"
      ]
     },
     "metadata": {},
     "output_type": "display_data"
    },
    {
     "data": {
      "application/javascript": [
       "$('span:contains(\"# Temp\")').closest('.cell').remove();"
      ],
      "text/plain": [
       "<IPython.core.display.Javascript object>"
      ]
     },
     "metadata": {},
     "output_type": "display_data"
    },
    {
     "data": {
      "application/javascript": [
       "\n",
       "        $('span:contains(\"# Temp\")').closest('.cell').remove();\n",
       "        var code = IPython.notebook.insert_cell_below('code');\n",
       "        var prompt = code.element.find(\".input_prompt\");\n",
       "        prompt.append('<br><button style=\"height: 100%; width: 54px;\">Run</button>');\n",
       "        prompt.on(\"click\", \"button\", function(){\n",
       "            code.execute();\n",
       "        });\n",
       "        code.set_text(decodeURIComponent(window.atob(\"JTIzJTIwVGVtcCUwQWluc2VydCUyOCUyNyUyNyUyNyUwQURCJTI4Q2l0YXRpb24lMjglMEElMjAlMjAlMjAlMjByaWNoYXJkc29uMjAxNmElMkMlMjBob2Vrc3RyYTIwMTRhJTJDJTIwcmVmJTNEJTIyJTIyJTJDJTBBJTIwJTIwJTIwJTIwY29udGV4dHMlM0QlNUIlMEElMEElMjAlMjAlMjAlMjAlNUQlMkMlMEElMjklMjklMEElMEElMjclMjclMjclMkMlMjBjaXRhdGlvbnMlM0QlMjdob2Vrc3RyYTIwMTRhJTI3JTI5JTNC\")));\n",
       "    "
      ],
      "text/plain": [
       "<IPython.core.display.Javascript object>"
      ]
     },
     "metadata": {},
     "output_type": "display_data"
    },
    {
     "data": {
      "application/javascript": [
       "$('span:contains(\"# Temp\")').closest('.cell').remove();"
      ],
      "text/plain": [
       "<IPython.core.display.Javascript object>"
      ]
     },
     "metadata": {},
     "output_type": "display_data"
    },
    {
     "data": {
      "application/javascript": [
       "\n",
       "        $('span:contains(\"# Temp\")').closest('.cell').remove();\n",
       "        var code = IPython.notebook.insert_cell_below('code');\n",
       "        var prompt = code.element.find(\".input_prompt\");\n",
       "        prompt.append('<br><button style=\"height: 100%; width: 54px;\">Run</button>');\n",
       "        prompt.on(\"click\", \"button\", function(){\n",
       "            code.execute();\n",
       "        });\n",
       "        code.set_text(decodeURIComponent(window.atob(\"JTIzJTIwVGVtcCUwQWluc2VydCUyOCUyNyUyNyUyNyUwQURCJTI4Q2l0YXRpb24lMjglMEElMjAlMjAlMjAlMjB3aWJpc29ubzIwMTRhJTJDJTIwaG9la3N0cmEyMDE0YSUyQyUyMHJlZiUzRCUyMiUyMiUyQyUwQSUyMCUyMCUyMCUyMGNvbnRleHRzJTNEJTVCJTBBJTBBJTIwJTIwJTIwJTIwJTVEJTJDJTBBJTI5JTI5JTBBJTBBJTI3JTI3JTI3JTJDJTIwY2l0YXRpb25zJTNEJTI3aG9la3N0cmEyMDE0YSUyNyUyOSUzQg==\")));\n",
       "    "
      ],
      "text/plain": [
       "<IPython.core.display.Javascript object>"
      ]
     },
     "metadata": {},
     "output_type": "display_data"
    },
    {
     "data": {
      "application/javascript": [
       "$('span:contains(\"# Temp\")').closest('.cell').remove();"
      ],
      "text/plain": [
       "<IPython.core.display.Javascript object>"
      ]
     },
     "metadata": {},
     "output_type": "display_data"
    },
    {
     "data": {
      "application/javascript": [
       "\n",
       "        $('span:contains(\"# Temp\")').closest('.cell').remove();\n",
       "        var code = IPython.notebook.insert_cell_below('code');\n",
       "        var prompt = code.element.find(\".input_prompt\");\n",
       "        prompt.append('<br><button style=\"height: 100%; width: 54px;\">Run</button>');\n",
       "        prompt.on(\"click\", \"button\", function(){\n",
       "            code.execute();\n",
       "        });\n",
       "        code.set_text(decodeURIComponent(window.atob(\"JTIzJTIwVGVtcCUwQWluc2VydCUyOCUyNyUyNyUyNyUwQURCJTI4Q2l0YXRpb24lMjglMEElMjAlMjAlMjAlMjB3aWJpc29ubzIwMTRhJTJDJTIwaG9la3N0cmEyMDE0YSUyQyUyMHJlZiUzRCUyMiUyMiUyQyUwQSUyMCUyMCUyMCUyMGNvbnRleHRzJTNEJTVCJTBBJTBBJTIwJTIwJTIwJTIwJTVEJTJDJTBBJTI5JTI5JTBBJTBBJTI3JTI3JTI3JTJDJTIwY2l0YXRpb25zJTNEJTI3aG9la3N0cmEyMDE0YSUyNyUyOSUzQg==\")));\n",
       "    "
      ],
      "text/plain": [
       "<IPython.core.display.Javascript object>"
      ]
     },
     "metadata": {},
     "output_type": "display_data"
    },
    {
     "data": {
      "application/javascript": [
       "$('span:contains(\"# Temp\")').closest('.cell').remove();"
      ],
      "text/plain": [
       "<IPython.core.display.Javascript object>"
      ]
     },
     "metadata": {},
     "output_type": "display_data"
    },
    {
     "data": {
      "application/javascript": [
       "\n",
       "        $('span:contains(\"# Temp\")').closest('.cell').remove();\n",
       "        var code = IPython.notebook.insert_cell_below('code');\n",
       "        var prompt = code.element.find(\".input_prompt\");\n",
       "        prompt.append('<br><button style=\"height: 100%; width: 54px;\">Run</button>');\n",
       "        prompt.on(\"click\", \"button\", function(){\n",
       "            code.execute();\n",
       "        });\n",
       "        code.set_text(decodeURIComponent(window.atob(\"JTIzJTIwVGVtcCUwQWluc2VydCUyOCUyNyUyNyUyNyUwQXNjaHJlaWJlcjIwMTZjJTIwJTNEJTIwREIlMjhXb3JrJTI4JTBBJTIwJTIwJTIwJTIwMjAxNiUyQyUyMCUyMkElMjBwcm92ZW5hbmNlJTIwbW9kZWwlMjBmb3IlMjBxdWFudGlmaWVkJTIwc2VsZiUyMGRhdGElMjIlMkMlMEElMjAlMjAlMjAlMjBkaXNwbGF5JTNEJTIyc2NocmVpYmVyJTIwYyUyMiUyQyUwQSUyMCUyMCUyMCUyMGF1dGhvcnMlM0QlMjJTY2hyZWliZXIlMkMlMjBBbmRyZWFzJTIyJTJDJTBBJTIwJTIwJTIwJTIwcGxhY2UlM0RVQUhDSSUyQyUwQSUyMCUyMCUyMCUyMHBwJTNEJTIyMzgyLS0zOTMlMjIlMkMlMEElMjAlMjAlMjAlMjBlbnRyeXR5cGUlM0QlMjJpbnByb2NlZWRpbmdzJTIyJTJDJTBBJTIwJTIwJTIwJTIwb3JnYW5pemF0aW9uJTNEJTIyU3ByaW5nZXIlMjIlMkMlMEElMjAlMjAlMjAlMjBJRCUzRCUyMnNjaHJlaWJlcjIwMTZwcm92ZW5hbmNlJTIyJTJDJTBBJTIwJTIwJTIwJTIwY2x1c3Rlcl9pZCUzRCUyMjg1NDQ2MDQ1ODE3NTY3MTQ1ODclMjIlMkMlMEElMjAlMjAlMjAlMjBzY2hvbGFyJTNEJTIyaHR0cCUzQS8vc2Nob2xhci5nb29nbGUuY29tL3NjaG9sYXIlM0ZjaXRlcyUzRDg1NDQ2MDQ1ODE3NTY3MTQ1ODclMjZhc19zZHQlM0QyMDA1JTI2c2Npb2R0JTNEMCUyQzUlMjZobCUzRGVuJTIyJTJDJTBBJTI5JTI5JTBBJTBBREIlMjhDaXRhdGlvbiUyOCUwQSUyMCUyMCUyMCUyMHNjaHJlaWJlcjIwMTZjJTJDJTIwaG9la3N0cmEyMDE0YSUyQyUyMHJlZiUzRCUyMiUyMiUyQyUwQSUyMCUyMCUyMCUyMGNvbnRleHRzJTNEJTVCJTBBJTBBJTIwJTIwJTIwJTIwJTVEJTJDJTBBJTI5JTI5JTBBJTBBJTI3JTI3JTI3JTJDJTIwY2l0YXRpb25zJTNEJTI3aG9la3N0cmEyMDE0YSUyNyUyOSUzQg==\")));\n",
       "    "
      ],
      "text/plain": [
       "<IPython.core.display.Javascript object>"
      ]
     },
     "metadata": {},
     "output_type": "display_data"
    },
    {
     "data": {
      "application/javascript": [
       "$('span:contains(\"# Temp\")').closest('.cell').remove();"
      ],
      "text/plain": [
       "<IPython.core.display.Javascript object>"
      ]
     },
     "metadata": {},
     "output_type": "display_data"
    },
    {
     "data": {
      "application/javascript": [
       "\n",
       "        $('span:contains(\"# Temp\")').closest('.cell').remove();\n",
       "        var code = IPython.notebook.insert_cell_below('code');\n",
       "        var prompt = code.element.find(\".input_prompt\");\n",
       "        prompt.append('<br><button style=\"height: 100%; width: 54px;\">Run</button>');\n",
       "        prompt.on(\"click\", \"button\", function(){\n",
       "            code.execute();\n",
       "        });\n",
       "        code.set_text(decodeURIComponent(window.atob(\"JTIzJTIwVGVtcCUwQWluc2VydCUyOCUyNyUyNyUyNyUwQXNjaHJlaWJlcjIwMTZjJTIwJTNEJTIwREIlMjhXb3JrJTI4JTBBJTIwJTIwJTIwJTIwMjAxNiUyQyUyMCUyMkElMjBwcm92ZW5hbmNlJTIwbW9kZWwlMjBmb3IlMjBxdWFudGlmaWVkJTIwc2VsZiUyMGRhdGElMjIlMkMlMEElMjAlMjAlMjAlMjBkaXNwbGF5JTNEJTIyc2NocmVpYmVyJTIwYyUyMiUyQyUwQSUyMCUyMCUyMCUyMGF1dGhvcnMlM0QlMjJTY2hyZWliZXIlMkMlMjBBbmRyZWFzJTIyJTJDJTBBJTIwJTIwJTIwJTIwcGxhY2UlM0RVQUhDSSUyQyUwQSUyMCUyMCUyMCUyMHBwJTNEJTIyMzgyLS0zOTMlMjIlMkMlMEElMjAlMjAlMjAlMjBlbnRyeXR5cGUlM0QlMjJpbnByb2NlZWRpbmdzJTIyJTJDJTBBJTIwJTIwJTIwJTIwb3JnYW5pemF0aW9uJTNEJTIyU3ByaW5nZXIlMjIlMkMlMEElMjAlMjAlMjAlMjBJRCUzRCUyMnNjaHJlaWJlcjIwMTZwcm92ZW5hbmNlJTIyJTJDJTBBJTIwJTIwJTIwJTIwY2x1c3Rlcl9pZCUzRCUyMjg1NDQ2MDQ1ODE3NTY3MTQ1ODclMjIlMkMlMEElMjAlMjAlMjAlMjBzY2hvbGFyJTNEJTIyaHR0cCUzQS8vc2Nob2xhci5nb29nbGUuY29tL3NjaG9sYXIlM0ZjaXRlcyUzRDg1NDQ2MDQ1ODE3NTY3MTQ1ODclMjZhc19zZHQlM0QyMDA1JTI2c2Npb2R0JTNEMCUyQzUlMjZobCUzRGVuJTIyJTJDJTBBJTI5JTI5JTBBJTBBREIlMjhDaXRhdGlvbiUyOCUwQSUyMCUyMCUyMCUyMHNjaHJlaWJlcjIwMTZjJTJDJTIwaG9la3N0cmEyMDE0YSUyQyUyMHJlZiUzRCUyMiUyMiUyQyUwQSUyMCUyMCUyMCUyMGNvbnRleHRzJTNEJTVCJTBBJTBBJTIwJTIwJTIwJTIwJTVEJTJDJTBBJTI5JTI5JTBBJTBBJTI3JTI3JTI3JTJDJTIwY2l0YXRpb25zJTNEJTI3aG9la3N0cmEyMDE0YSUyNyUyOSUzQg==\")));\n",
       "    "
      ],
      "text/plain": [
       "<IPython.core.display.Javascript object>"
      ]
     },
     "metadata": {},
     "output_type": "display_data"
    },
    {
     "data": {
      "application/javascript": [
       "$('span:contains(\"# Temp\")').closest('.cell').remove();"
      ],
      "text/plain": [
       "<IPython.core.display.Javascript object>"
      ]
     },
     "metadata": {},
     "output_type": "display_data"
    },
    {
     "data": {
      "application/javascript": [
       "\n",
       "        $('span:contains(\"# Temp\")').closest('.cell').remove();\n",
       "        var code = IPython.notebook.insert_cell_below('code');\n",
       "        var prompt = code.element.find(\".input_prompt\");\n",
       "        prompt.append('<br><button style=\"height: 100%; width: 54px;\">Run</button>');\n",
       "        prompt.on(\"click\", \"button\", function(){\n",
       "            code.execute();\n",
       "        });\n",
       "        code.set_text(decodeURIComponent(window.atob(\"JTIzJTIwVGVtcCUwQWluc2VydCUyOCUyNyUyNyUyNyUwQW1lcm8lQzMlQjFvMjAxNWElMjAlM0QlMjBEQiUyOFdvcmslMjglMEElMjAlMjAlMjAlMjAyMDE1JTJDJTIwJTIyTGlua2VkJTIwRWRpdCUyMFJ1bGVzJTNBJTIwQSUyMFdlYiUyMEZyaWVuZGx5JTIwV2F5JTIwb2YlMjBDaGVja2luZyUyMFF1YWxpdHklMjBvZiUyMFJERiUyMERhdGElMjBDdWJlcy4lMjIlMkMlMEElMjAlMjAlMjAlMjBkaXNwbGF5JTNEJTIybWVybyVDMyVCMW8lMjIlMkMlMEElMjAlMjAlMjAlMjBhdXRob3JzJTNEJTIyTWVybyVDMyVCMW8tUGUlQzMlQjF1ZWxhJTJDJTIwQWxiZXJ0JTIwYW5kJTIwR3UlQzMlQTlyZXQlMkMlMjBDaHJpc3RvcGhlJTIwYW5kJTIwU2NobG9iYWNoJTJDJTIwU3RlZmFuJTIyJTJDJTBBJTIwJTIwJTIwJTIwcGxhY2UxJTNEJTIyU2VtU3RhdHMlNDAlMjBJU1dDJTIyJTJDJTBBJTIwJTIwJTIwJTIwZW50cnl0eXBlJTNEJTIyaW5wcm9jZWVkaW5ncyUyMiUyQyUwQSUyMCUyMCUyMCUyMElEJTNEJTIybWVyb25vMjAxNWxpbmtlZCUyMiUyQyUwQSUyMCUyMCUyMCUyMGNsdXN0ZXJfaWQlM0QlMjI4NTg0Nzc5NzEwNTIxNjMxNDU0JTIyJTJDJTBBJTIwJTIwJTIwJTIwc2Nob2xhciUzRCUyMmh0dHAlM0EvL3NjaG9sYXIuZ29vZ2xlLmNvbS9zY2hvbGFyJTNGY2l0ZXMlM0Q4NTg0Nzc5NzEwNTIxNjMxNDU0JTI2YXNfc2R0JTNEMjAwNSUyNnNjaW9kdCUzRDAlMkM1JTI2aGwlM0RlbiUyMiUyQyUwQSUyOSUyOSUwQSUwQURCJTI4Q2l0YXRpb24lMjglMEElMjAlMjAlMjAlMjBtZXJvJUMzJUIxbzIwMTVhJTJDJTIwaG9la3N0cmEyMDE0YSUyQyUyMHJlZiUzRCUyMiUyMiUyQyUwQSUyMCUyMCUyMCUyMGNvbnRleHRzJTNEJTVCJTBBJTBBJTIwJTIwJTIwJTIwJTVEJTJDJTBBJTI5JTI5JTBBJTBBJTI3JTI3JTI3JTJDJTIwY2l0YXRpb25zJTNEJTI3aG9la3N0cmEyMDE0YSUyNyUyOSUzQg==\")));\n",
       "    "
      ],
      "text/plain": [
       "<IPython.core.display.Javascript object>"
      ]
     },
     "metadata": {},
     "output_type": "display_data"
    },
    {
     "data": {
      "application/javascript": [
       "$('span:contains(\"# Temp\")').closest('.cell').remove();"
      ],
      "text/plain": [
       "<IPython.core.display.Javascript object>"
      ]
     },
     "metadata": {},
     "output_type": "display_data"
    },
    {
     "data": {
      "application/javascript": [
       "\n",
       "        $('span:contains(\"# Temp\")').closest('.cell').remove();\n",
       "        var code = IPython.notebook.insert_cell_below('code');\n",
       "        var prompt = code.element.find(\".input_prompt\");\n",
       "        prompt.append('<br><button style=\"height: 100%; width: 54px;\">Run</button>');\n",
       "        prompt.on(\"click\", \"button\", function(){\n",
       "            code.execute();\n",
       "        });\n",
       "        code.set_text(decodeURIComponent(window.atob(\"JTIzJTIwVGVtcCUwQWluc2VydCUyOCUyNyUyNyUyNyUwQW1lcm8lQzMlQjFvMjAxNWElMjAlM0QlMjBEQiUyOFdvcmslMjglMEElMjAlMjAlMjAlMjAyMDE1JTJDJTIwJTIyTGlua2VkJTIwRWRpdCUyMFJ1bGVzJTNBJTIwQSUyMFdlYiUyMEZyaWVuZGx5JTIwV2F5JTIwb2YlMjBDaGVja2luZyUyMFF1YWxpdHklMjBvZiUyMFJERiUyMERhdGElMjBDdWJlcy4lMjIlMkMlMEElMjAlMjAlMjAlMjBkaXNwbGF5JTNEJTIybWVybyVDMyVCMW8lMjIlMkMlMEElMjAlMjAlMjAlMjBhdXRob3JzJTNEJTIyTWVybyVDMyVCMW8tUGUlQzMlQjF1ZWxhJTJDJTIwQWxiZXJ0JTIwYW5kJTIwR3UlQzMlQTlyZXQlMkMlMjBDaHJpc3RvcGhlJTIwYW5kJTIwU2NobG9iYWNoJTJDJTIwU3RlZmFuJTIyJTJDJTBBJTIwJTIwJTIwJTIwcGxhY2UxJTNEJTIyU2VtU3RhdHMlNDAlMjBJU1dDJTIyJTJDJTBBJTIwJTIwJTIwJTIwZW50cnl0eXBlJTNEJTIyaW5wcm9jZWVkaW5ncyUyMiUyQyUwQSUyMCUyMCUyMCUyMElEJTNEJTIybWVyb25vMjAxNWxpbmtlZCUyMiUyQyUwQSUyMCUyMCUyMCUyMGNsdXN0ZXJfaWQlM0QlMjI4NTg0Nzc5NzEwNTIxNjMxNDU0JTIyJTJDJTBBJTIwJTIwJTIwJTIwc2Nob2xhciUzRCUyMmh0dHAlM0EvL3NjaG9sYXIuZ29vZ2xlLmNvbS9zY2hvbGFyJTNGY2l0ZXMlM0Q4NTg0Nzc5NzEwNTIxNjMxNDU0JTI2YXNfc2R0JTNEMjAwNSUyNnNjaW9kdCUzRDAlMkM1JTI2aGwlM0RlbiUyMiUyQyUwQSUyOSUyOSUwQSUwQURCJTI4Q2l0YXRpb24lMjglMEElMjAlMjAlMjAlMjBtZXJvJUMzJUIxbzIwMTVhJTJDJTIwaG9la3N0cmEyMDE0YSUyQyUyMHJlZiUzRCUyMiUyMiUyQyUwQSUyMCUyMCUyMCUyMGNvbnRleHRzJTNEJTVCJTBBJTBBJTIwJTIwJTIwJTIwJTVEJTJDJTBBJTI5JTI5JTBBJTBBJTI3JTI3JTI3JTJDJTIwY2l0YXRpb25zJTNEJTI3aG9la3N0cmEyMDE0YSUyNyUyOSUzQg==\")));\n",
       "    "
      ],
      "text/plain": [
       "<IPython.core.display.Javascript object>"
      ]
     },
     "metadata": {},
     "output_type": "display_data"
    },
    {
     "data": {
      "application/javascript": [
       "$('span:contains(\"# Temp\")').closest('.cell').remove();"
      ],
      "text/plain": [
       "<IPython.core.display.Javascript object>"
      ]
     },
     "metadata": {},
     "output_type": "display_data"
    },
    {
     "data": {
      "application/javascript": [
       "\n",
       "        $('span:contains(\"# Temp\")').closest('.cell').remove();\n",
       "        var code = IPython.notebook.insert_cell_below('code');\n",
       "        var prompt = code.element.find(\".input_prompt\");\n",
       "        prompt.append('<br><button style=\"height: 100%; width: 54px;\">Run</button>');\n",
       "        prompt.on(\"click\", \"button\", function(){\n",
       "            code.execute();\n",
       "        });\n",
       "        code.set_text(decodeURIComponent(window.atob(\"JTIzJTIwVGVtcCUwQWluc2VydCUyOCUyNyUyNyUyNyUwQW1lcm8lQzMlQjFvMjAxNWElMjAlM0QlMjBEQiUyOFdvcmslMjglMEElMjAlMjAlMjAlMjAyMDE1JTJDJTIwJTIyTGlua2VkJTIwRWRpdCUyMFJ1bGVzJTNBJTIwQSUyMFdlYiUyMEZyaWVuZGx5JTIwV2F5JTIwb2YlMjBDaGVja2luZyUyMFF1YWxpdHklMjBvZiUyMFJERiUyMERhdGElMjBDdWJlcy4lMjIlMkMlMEElMjAlMjAlMjAlMjBkaXNwbGF5JTNEJTIybWVybyVDMyVCMW8lMjIlMkMlMEElMjAlMjAlMjAlMjBhdXRob3JzJTNEJTIyTWVybyVDMyVCMW8tUGUlQzMlQjF1ZWxhJTJDJTIwQWxiZXJ0JTIwYW5kJTIwR3UlQzMlQTlyZXQlMkMlMjBDaHJpc3RvcGhlJTIwYW5kJTIwU2NobG9iYWNoJTJDJTIwU3RlZmFuJTIyJTJDJTBBJTIwJTIwJTIwJTIwcGxhY2UlM0RJU1dDJTJDJTBBJTIwJTIwJTIwJTIwZW50cnl0eXBlJTNEJTIyaW5wcm9jZWVkaW5ncyUyMiUyQyUwQSUyMCUyMCUyMCUyMElEJTNEJTIybWVyb25vMjAxNWxpbmtlZCUyMiUyQyUwQSUyMCUyMCUyMCUyMGNsdXN0ZXJfaWQlM0QlMjI4NTg0Nzc5NzEwNTIxNjMxNDU0JTIyJTJDJTBBJTIwJTIwJTIwJTIwc2Nob2xhciUzRCUyMmh0dHAlM0EvL3NjaG9sYXIuZ29vZ2xlLmNvbS9zY2hvbGFyJTNGY2l0ZXMlM0Q4NTg0Nzc5NzEwNTIxNjMxNDU0JTI2YXNfc2R0JTNEMjAwNSUyNnNjaW9kdCUzRDAlMkM1JTI2aGwlM0RlbiUyMiUyQyUwQSUyOSUyOSUwQSUwQURCJTI4Q2l0YXRpb24lMjglMEElMjAlMjAlMjAlMjBtZXJvJUMzJUIxbzIwMTVhJTJDJTIwaG9la3N0cmEyMDE0YSUyQyUyMHJlZiUzRCUyMiUyMiUyQyUwQSUyMCUyMCUyMCUyMGNvbnRleHRzJTNEJTVCJTBBJTBBJTIwJTIwJTIwJTIwJTVEJTJDJTBBJTI5JTI5JTBBJTBBJTI3JTI3JTI3JTJDJTIwY2l0YXRpb25zJTNEJTI3aG9la3N0cmEyMDE0YSUyNyUyOSUzQg==\")));\n",
       "    "
      ],
      "text/plain": [
       "<IPython.core.display.Javascript object>"
      ]
     },
     "metadata": {},
     "output_type": "display_data"
    },
    {
     "data": {
      "application/javascript": [
       "$('span:contains(\"# Temp\")').closest('.cell').remove();"
      ],
      "text/plain": [
       "<IPython.core.display.Javascript object>"
      ]
     },
     "metadata": {},
     "output_type": "display_data"
    },
    {
     "data": {
      "application/javascript": [
       "\n",
       "        $('span:contains(\"# Temp\")').closest('.cell').remove();\n",
       "        var code = IPython.notebook.insert_cell_below('code');\n",
       "        var prompt = code.element.find(\".input_prompt\");\n",
       "        prompt.append('<br><button style=\"height: 100%; width: 54px;\">Run</button>');\n",
       "        prompt.on(\"click\", \"button\", function(){\n",
       "            code.execute();\n",
       "        });\n",
       "        code.set_text(decodeURIComponent(window.atob(\"JTIzJTIwVGVtcCUwQWluc2VydCUyOCUyNyUyNyUyNyUwQURCJTI4Q2l0YXRpb24lMjglMEElMjAlMjAlMjAlMjBrb2h3YWx0ZXIyMDE2YSUyQyUyMGhvZWtzdHJhMjAxNGElMkMlMjByZWYlM0QlMjIlMjIlMkMlMEElMjAlMjAlMjAlMjBjb250ZXh0cyUzRCU1QiUwQSUwQSUyMCUyMCUyMCUyMCU1RCUyQyUwQSUyOSUyOSUwQSUwQSUyNyUyNyUyNyUyQyUyMGNpdGF0aW9ucyUzRCUyN2hvZWtzdHJhMjAxNGElMjclMjklM0I=\")));\n",
       "    "
      ],
      "text/plain": [
       "<IPython.core.display.Javascript object>"
      ]
     },
     "metadata": {},
     "output_type": "display_data"
    },
    {
     "data": {
      "application/javascript": [
       "$('span:contains(\"# Temp\")').closest('.cell').remove();"
      ],
      "text/plain": [
       "<IPython.core.display.Javascript object>"
      ]
     },
     "metadata": {},
     "output_type": "display_data"
    },
    {
     "data": {
      "application/javascript": [
       "\n",
       "        $('span:contains(\"# Temp\")').closest('.cell').remove();\n",
       "        var code = IPython.notebook.insert_cell_below('code');\n",
       "        var prompt = code.element.find(\".input_prompt\");\n",
       "        prompt.append('<br><button style=\"height: 100%; width: 54px;\">Run</button>');\n",
       "        prompt.on(\"click\", \"button\", function(){\n",
       "            code.execute();\n",
       "        });\n",
       "        code.set_text(decodeURIComponent(window.atob(\"JTIzJTIwVGVtcCUwQWluc2VydCUyOCUyNyUyNyUyNyUwQURCJTI4Q2l0YXRpb24lMjglMEElMjAlMjAlMjAlMjBrb2h3YWx0ZXIyMDE2YSUyQyUyMGhvZWtzdHJhMjAxNGElMkMlMjByZWYlM0QlMjIlMjIlMkMlMEElMjAlMjAlMjAlMjBjb250ZXh0cyUzRCU1QiUwQSUwQSUyMCUyMCUyMCUyMCU1RCUyQyUwQSUyOSUyOSUwQSUwQSUyNyUyNyUyNyUyQyUyMGNpdGF0aW9ucyUzRCUyN2hvZWtzdHJhMjAxNGElMjclMjklM0I=\")));\n",
       "    "
      ],
      "text/plain": [
       "<IPython.core.display.Javascript object>"
      ]
     },
     "metadata": {},
     "output_type": "display_data"
    },
    {
     "data": {
      "application/javascript": [
       "$('span:contains(\"# Temp\")').closest('.cell').remove();"
      ],
      "text/plain": [
       "<IPython.core.display.Javascript object>"
      ]
     },
     "metadata": {},
     "output_type": "display_data"
    },
    {
     "data": {
      "application/javascript": [
       "\n",
       "        $('span:contains(\"# Temp\")').closest('.cell').remove();\n",
       "        var code = IPython.notebook.insert_cell_below('code');\n",
       "        var prompt = code.element.find(\".input_prompt\");\n",
       "        prompt.append('<br><button style=\"height: 100%; width: 54px;\">Run</button>');\n",
       "        prompt.on(\"click\", \"button\", function(){\n",
       "            code.execute();\n",
       "        });\n",
       "        code.set_text(decodeURIComponent(window.atob(\"JTIzJTIwVGVtcCUwQWluc2VydCUyOCUyNyUyNyUyNyUwQW1lcm8lQzMlQjFvMjAxN2ElMjAlM0QlMjBEQiUyOFdvcmslMjglMEElMjAlMjAlMjAlMjAyMDE3JTJDJTIwJTIyQXV0b21hdGljJTIwUXVlcnktY2VudHJpYyUyMEFQSSUyMGZvciUyMFJvdXRpbmUlMjBBY2Nlc3MlMjB0byUyMExpbmtlZCUyMERhdGElMjIlMkMlMEElMjAlMjAlMjAlMjBkaXNwbGF5JTNEJTIybWVybyVDMyVCMW8lMjIlMkMlMEElMjAlMjAlMjAlMjBhdXRob3JzJTNEJTIyTWVybyVDMyVCMW8tUGUlQzMlQjF1ZWxhJTJDJTIwQWxiZXJ0JTIwYW5kJTIwSG9la3N0cmElMkMlMjBSaW5rZSUyMiUyQyUwQSUyMCUyMCUyMCUyMHBsYWNlJTNESVNXQyUyQyUwQSUyMCUyMCUyMCUyMHBwJTNEJTIyMzM0LS0zNDklMjIlMkMlMEElMjAlMjAlMjAlMjBlbnRyeXR5cGUlM0QlMjJpbnByb2NlZWRpbmdzJTIyJTJDJTBBJTIwJTIwJTIwJTIwb3JnYW5pemF0aW9uJTNEJTIyU3ByaW5nZXIlMjIlMkMlMEElMjAlMjAlMjAlMjBJRCUzRCUyMm1lcm9ubzIwMTdhdXRvbWF0aWMlMjIlMkMlMEElMjAlMjAlMjAlMjBjbHVzdGVyX2lkJTNEJTIyMTA2NzQ4NTA4NDA0MDU2MDYzNjYlMjIlMkMlMEElMjAlMjAlMjAlMjBzY2hvbGFyJTNEJTIyaHR0cCUzQS8vc2Nob2xhci5nb29nbGUuY29tL3NjaG9sYXIlM0ZjaXRlcyUzRDEwNjc0ODUwODQwNDA1NjA2MzY2JTI2YXNfc2R0JTNEMjAwNSUyNnNjaW9kdCUzRDAlMkM1JTI2aGwlM0RlbiUyMiUyQyUwQSUyOSUyOSUwQSUwQURCJTI4Q2l0YXRpb24lMjglMEElMjAlMjAlMjAlMjBtZXJvJUMzJUIxbzIwMTdhJTJDJTIwaG9la3N0cmEyMDE0YSUyQyUyMHJlZiUzRCUyMiUyMiUyQyUwQSUyMCUyMCUyMCUyMGNvbnRleHRzJTNEJTVCJTBBJTBBJTIwJTIwJTIwJTIwJTVEJTJDJTBBJTI5JTI5JTBBJTBBJTI3JTI3JTI3JTJDJTIwY2l0YXRpb25zJTNEJTI3aG9la3N0cmEyMDE0YSUyNyUyOSUzQg==\")));\n",
       "    "
      ],
      "text/plain": [
       "<IPython.core.display.Javascript object>"
      ]
     },
     "metadata": {},
     "output_type": "display_data"
    },
    {
     "data": {
      "application/javascript": [
       "$('span:contains(\"# Temp\")').closest('.cell').remove();"
      ],
      "text/plain": [
       "<IPython.core.display.Javascript object>"
      ]
     },
     "metadata": {},
     "output_type": "display_data"
    },
    {
     "data": {
      "application/javascript": [
       "\n",
       "        $('span:contains(\"# Temp\")').closest('.cell').remove();\n",
       "        var code = IPython.notebook.insert_cell_below('code');\n",
       "        var prompt = code.element.find(\".input_prompt\");\n",
       "        prompt.append('<br><button style=\"height: 100%; width: 54px;\">Run</button>');\n",
       "        prompt.on(\"click\", \"button\", function(){\n",
       "            code.execute();\n",
       "        });\n",
       "        code.set_text(decodeURIComponent(window.atob(\"JTIzJTIwVGVtcCUwQWluc2VydCUyOCUyNyUyNyUyNyUwQW1lcm8lQzMlQjFvMjAxN2ElMjAlM0QlMjBEQiUyOFdvcmslMjglMEElMjAlMjAlMjAlMjAyMDE3JTJDJTIwJTIyQXV0b21hdGljJTIwUXVlcnktY2VudHJpYyUyMEFQSSUyMGZvciUyMFJvdXRpbmUlMjBBY2Nlc3MlMjB0byUyMExpbmtlZCUyMERhdGElMjIlMkMlMEElMjAlMjAlMjAlMjBkaXNwbGF5JTNEJTIybWVybyVDMyVCMW8lMjIlMkMlMEElMjAlMjAlMjAlMjBhdXRob3JzJTNEJTIyTWVybyVDMyVCMW8tUGUlQzMlQjF1ZWxhJTJDJTIwQWxiZXJ0JTIwYW5kJTIwSG9la3N0cmElMkMlMjBSaW5rZSUyMiUyQyUwQSUyMCUyMCUyMCUyMHBsYWNlJTNESVNXQyUyQyUwQSUyMCUyMCUyMCUyMHBwJTNEJTIyMzM0LS0zNDklMjIlMkMlMEElMjAlMjAlMjAlMjBlbnRyeXR5cGUlM0QlMjJpbnByb2NlZWRpbmdzJTIyJTJDJTBBJTIwJTIwJTIwJTIwb3JnYW5pemF0aW9uJTNEJTIyU3ByaW5nZXIlMjIlMkMlMEElMjAlMjAlMjAlMjBJRCUzRCUyMm1lcm9ubzIwMTdhdXRvbWF0aWMlMjIlMkMlMEElMjAlMjAlMjAlMjBjbHVzdGVyX2lkJTNEJTIyMTA2NzQ4NTA4NDA0MDU2MDYzNjYlMjIlMkMlMEElMjAlMjAlMjAlMjBzY2hvbGFyJTNEJTIyaHR0cCUzQS8vc2Nob2xhci5nb29nbGUuY29tL3NjaG9sYXIlM0ZjaXRlcyUzRDEwNjc0ODUwODQwNDA1NjA2MzY2JTI2YXNfc2R0JTNEMjAwNSUyNnNjaW9kdCUzRDAlMkM1JTI2aGwlM0RlbiUyMiUyQyUwQSUyOSUyOSUwQSUwQURCJTI4Q2l0YXRpb24lMjglMEElMjAlMjAlMjAlMjBtZXJvJUMzJUIxbzIwMTdhJTJDJTIwaG9la3N0cmEyMDE0YSUyQyUyMHJlZiUzRCUyMiUyMiUyQyUwQSUyMCUyMCUyMCUyMGNvbnRleHRzJTNEJTVCJTBBJTBBJTIwJTIwJTIwJTIwJTVEJTJDJTBBJTI5JTI5JTBBJTBBJTI3JTI3JTI3JTJDJTIwY2l0YXRpb25zJTNEJTI3aG9la3N0cmEyMDE0YSUyNyUyOSUzQg==\")));\n",
       "    "
      ],
      "text/plain": [
       "<IPython.core.display.Javascript object>"
      ]
     },
     "metadata": {},
     "output_type": "display_data"
    },
    {
     "data": {
      "application/javascript": [
       "$('span:contains(\"# Temp\")').closest('.cell').remove();"
      ],
      "text/plain": [
       "<IPython.core.display.Javascript object>"
      ]
     },
     "metadata": {},
     "output_type": "display_data"
    },
    {
     "data": {
      "application/javascript": [
       "\n",
       "        $('span:contains(\"# Temp\")').closest('.cell').remove();\n",
       "        var code = IPython.notebook.insert_cell_below('code');\n",
       "        var prompt = code.element.find(\".input_prompt\");\n",
       "        prompt.append('<br><button style=\"height: 100%; width: 54px;\">Run</button>');\n",
       "        prompt.on(\"click\", \"button\", function(){\n",
       "            code.execute();\n",
       "        });\n",
       "        code.set_text(decodeURIComponent(window.atob(\"JTIzJTIwVGVtcCUwQWluc2VydCUyOCUyNyUyNyUyNyUwQW1lcm8lQzMlQjFvMjAxN2IlMjAlM0QlMjBEQiUyOFdvcmslMjglMEElMjAlMjAlMjAlMjAyMDE3JTJDJTIwJTIyU1BBUlFMMkdpdCUzQSUyMHRyYW5zcGFyZW50JTIwU1BBUlFMJTIwYW5kJTIwbGlua2VkJTIwZGF0YSUyMEFQSSUyMGN1cmF0aW9uJTIwdmlhJTIwR2l0JTIyJTJDJTBBJTIwJTIwJTIwJTIwZGlzcGxheSUzRCUyMm1lcm8lQzMlQjFvJTIwYiUyMiUyQyUwQSUyMCUyMCUyMCUyMGF1dGhvcnMlM0QlMjJNZXJvJUMzJUIxby1QZSVDMyVCMXVlbGElMkMlMjBBbGJlcnQlMjBhbmQlMjBIb2Vrc3RyYSUyQyUyMFJpbmtlJTIyJTJDJTBBJTIwJTIwJTIwJTIwcGxhY2UlM0RFU1dDJTJDJTBBJTIwJTIwJTIwJTIwcHAlM0QlMjIxNDMtLTE0OCUyMiUyQyUwQSUyMCUyMCUyMCUyMGVudHJ5dHlwZSUzRCUyMmlucHJvY2VlZGluZ3MlMjIlMkMlMEElMjAlMjAlMjAlMjBvcmdhbml6YXRpb24lM0QlMjJTcHJpbmdlciUyMiUyQyUwQSUyMCUyMCUyMCUyMElEJTNEJTIybWVyb25vMjAxN3NwYXJxbDJnaXQlMjIlMkMlMEElMjAlMjAlMjAlMjBjbHVzdGVyX2lkJTNEJTIyNDI1OTI2Mzg1MDI0ODE3Njk0OSUyMiUyQyUwQSUyMCUyMCUyMCUyMHNjaG9sYXIlM0QlMjJodHRwJTNBLy9zY2hvbGFyLmdvb2dsZS5jb20vc2Nob2xhciUzRmNpdGVzJTNENDI1OTI2Mzg1MDI0ODE3Njk0OSUyNmFzX3NkdCUzRDIwMDUlMjZzY2lvZHQlM0QwJTJDNSUyNmhsJTNEZW4lMjIlMkMlMEElMjklMjklMEElMEFEQiUyOENpdGF0aW9uJTI4JTBBJTIwJTIwJTIwJTIwbWVybyVDMyVCMW8yMDE3YiUyQyUyMGhvZWtzdHJhMjAxNGElMkMlMjByZWYlM0QlMjIlMjIlMkMlMEElMjAlMjAlMjAlMjBjb250ZXh0cyUzRCU1QiUwQSUwQSUyMCUyMCUyMCUyMCU1RCUyQyUwQSUyOSUyOSUwQSUwQSUyNyUyNyUyNyUyQyUyMGNpdGF0aW9ucyUzRCUyN2hvZWtzdHJhMjAxNGElMjclMjklM0I=\")));\n",
       "    "
      ],
      "text/plain": [
       "<IPython.core.display.Javascript object>"
      ]
     },
     "metadata": {},
     "output_type": "display_data"
    },
    {
     "data": {
      "application/javascript": [
       "$('span:contains(\"# Temp\")').closest('.cell').remove();"
      ],
      "text/plain": [
       "<IPython.core.display.Javascript object>"
      ]
     },
     "metadata": {},
     "output_type": "display_data"
    },
    {
     "data": {
      "application/javascript": [
       "\n",
       "        $('span:contains(\"# Temp\")').closest('.cell').remove();\n",
       "        var code = IPython.notebook.insert_cell_below('code');\n",
       "        var prompt = code.element.find(\".input_prompt\");\n",
       "        prompt.append('<br><button style=\"height: 100%; width: 54px;\">Run</button>');\n",
       "        prompt.on(\"click\", \"button\", function(){\n",
       "            code.execute();\n",
       "        });\n",
       "        code.set_text(decodeURIComponent(window.atob(\"JTIzJTIwVGVtcCUwQWluc2VydCUyOCUyNyUyNyUyNyUwQW1lcm8lQzMlQjFvMjAxN2IlMjAlM0QlMjBEQiUyOFdvcmslMjglMEElMjAlMjAlMjAlMjAyMDE3JTJDJTIwJTIyU1BBUlFMMkdpdCUzQSUyMHRyYW5zcGFyZW50JTIwU1BBUlFMJTIwYW5kJTIwbGlua2VkJTIwZGF0YSUyMEFQSSUyMGN1cmF0aW9uJTIwdmlhJTIwR2l0JTIyJTJDJTBBJTIwJTIwJTIwJTIwZGlzcGxheSUzRCUyMm1lcm8lQzMlQjFvJTIwYiUyMiUyQyUwQSUyMCUyMCUyMCUyMGF1dGhvcnMlM0QlMjJNZXJvJUMzJUIxby1QZSVDMyVCMXVlbGElMkMlMjBBbGJlcnQlMjBhbmQlMjBIb2Vrc3RyYSUyQyUyMFJpbmtlJTIyJTJDJTBBJTIwJTIwJTIwJTIwcGxhY2UlM0RFU1dDJTJDJTBBJTIwJTIwJTIwJTIwcHAlM0QlMjIxNDMtLTE0OCUyMiUyQyUwQSUyMCUyMCUyMCUyMGVudHJ5dHlwZSUzRCUyMmlucHJvY2VlZGluZ3MlMjIlMkMlMEElMjAlMjAlMjAlMjBvcmdhbml6YXRpb24lM0QlMjJTcHJpbmdlciUyMiUyQyUwQSUyMCUyMCUyMCUyMElEJTNEJTIybWVyb25vMjAxN3NwYXJxbDJnaXQlMjIlMkMlMEElMjAlMjAlMjAlMjBjbHVzdGVyX2lkJTNEJTIyNDI1OTI2Mzg1MDI0ODE3Njk0OSUyMiUyQyUwQSUyMCUyMCUyMCUyMHNjaG9sYXIlM0QlMjJodHRwJTNBLy9zY2hvbGFyLmdvb2dsZS5jb20vc2Nob2xhciUzRmNpdGVzJTNENDI1OTI2Mzg1MDI0ODE3Njk0OSUyNmFzX3NkdCUzRDIwMDUlMjZzY2lvZHQlM0QwJTJDNSUyNmhsJTNEZW4lMjIlMkMlMEElMjklMjklMEElMEFEQiUyOENpdGF0aW9uJTI4JTBBJTIwJTIwJTIwJTIwbWVybyVDMyVCMW8yMDE3YiUyQyUyMGhvZWtzdHJhMjAxNGElMkMlMjByZWYlM0QlMjIlMjIlMkMlMEElMjAlMjAlMjAlMjBjb250ZXh0cyUzRCU1QiUwQSUwQSUyMCUyMCUyMCUyMCU1RCUyQyUwQSUyOSUyOSUwQSUwQSUyNyUyNyUyNyUyQyUyMGNpdGF0aW9ucyUzRCUyN2hvZWtzdHJhMjAxNGElMjclMjklM0I=\")));\n",
       "    "
      ],
      "text/plain": [
       "<IPython.core.display.Javascript object>"
      ]
     },
     "metadata": {},
     "output_type": "display_data"
    },
    {
     "data": {
      "application/javascript": [
       "$('span:contains(\"# Temp\")').closest('.cell').remove();"
      ],
      "text/plain": [
       "<IPython.core.display.Javascript object>"
      ]
     },
     "metadata": {},
     "output_type": "display_data"
    },
    {
     "data": {
      "application/javascript": [
       "\n",
       "        $('span:contains(\"# Temp\")').closest('.cell').remove();\n",
       "        var code = IPython.notebook.insert_cell_below('code');\n",
       "        var prompt = code.element.find(\".input_prompt\");\n",
       "        prompt.append('<br><button style=\"height: 100%; width: 54px;\">Run</button>');\n",
       "        prompt.on(\"click\", \"button\", function(){\n",
       "            code.execute();\n",
       "        });\n",
       "        code.set_text(decodeURIComponent(window.atob(\"JTIzJTIwVGVtcCUwQWluc2VydCUyOCUyNyUyNyUyNyUwQURCJTI4Q2l0YXRpb24lMjglMEElMjAlMjAlMjAlMjBoZXJzY2hlbDIwMTdhJTJDJTIwaG9la3N0cmEyMDE0YSUyQyUyMHJlZiUzRCUyMiUyMiUyQyUwQSUyMCUyMCUyMCUyMGNvbnRleHRzJTNEJTVCJTBBJTBBJTIwJTIwJTIwJTIwJTVEJTJDJTBBJTI5JTI5JTBBJTBBJTI3JTI3JTI3JTJDJTIwY2l0YXRpb25zJTNEJTI3aG9la3N0cmEyMDE0YSUyNyUyOSUzQg==\")));\n",
       "    "
      ],
      "text/plain": [
       "<IPython.core.display.Javascript object>"
      ]
     },
     "metadata": {},
     "output_type": "display_data"
    },
    {
     "data": {
      "application/javascript": [
       "$('span:contains(\"# Temp\")').closest('.cell').remove();"
      ],
      "text/plain": [
       "<IPython.core.display.Javascript object>"
      ]
     },
     "metadata": {},
     "output_type": "display_data"
    },
    {
     "data": {
      "application/javascript": [
       "\n",
       "        $('span:contains(\"# Temp\")').closest('.cell').remove();\n",
       "        var code = IPython.notebook.insert_cell_below('code');\n",
       "        var prompt = code.element.find(\".input_prompt\");\n",
       "        prompt.append('<br><button style=\"height: 100%; width: 54px;\">Run</button>');\n",
       "        prompt.on(\"click\", \"button\", function(){\n",
       "            code.execute();\n",
       "        });\n",
       "        code.set_text(decodeURIComponent(window.atob(\"JTIzJTIwVGVtcCUwQWluc2VydCUyOCUyNyUyNyUyNyUwQURCJTI4Q2l0YXRpb24lMjglMEElMjAlMjAlMjAlMjBoZXJzY2hlbDIwMTdhJTJDJTIwaG9la3N0cmEyMDE0YSUyQyUyMHJlZiUzRCUyMiUyMiUyQyUwQSUyMCUyMCUyMCUyMGNvbnRleHRzJTNEJTVCJTBBJTBBJTIwJTIwJTIwJTIwJTVEJTJDJTBBJTI5JTI5JTBBJTBBJTI3JTI3JTI3JTJDJTIwY2l0YXRpb25zJTNEJTI3aG9la3N0cmEyMDE0YSUyNyUyOSUzQg==\")));\n",
       "    "
      ],
      "text/plain": [
       "<IPython.core.display.Javascript object>"
      ]
     },
     "metadata": {},
     "output_type": "display_data"
    },
    {
     "data": {
      "application/javascript": [
       "$('span:contains(\"# Temp\")').closest('.cell').remove();"
      ],
      "text/plain": [
       "<IPython.core.display.Javascript object>"
      ]
     },
     "metadata": {},
     "output_type": "display_data"
    },
    {
     "data": {
      "application/javascript": [
       "\n",
       "        $('span:contains(\"# Temp\")').closest('.cell').remove();\n",
       "        var code = IPython.notebook.insert_cell_below('code');\n",
       "        var prompt = code.element.find(\".input_prompt\");\n",
       "        prompt.append('<br><button style=\"height: 100%; width: 54px;\">Run</button>');\n",
       "        prompt.on(\"click\", \"button\", function(){\n",
       "            code.execute();\n",
       "        });\n",
       "        code.set_text(decodeURIComponent(window.atob(\"JTIzJTIwVGVtcCUwQWluc2VydCUyOCUyNyUyNyUyNyUwQWthcnNhaTIwMTZiJTIwJTNEJTIwREIlMjhXb3JrJTI4JTBBJTIwJTIwJTIwJTIwMjAxNiUyQyUyMCUyMkNsdXN0ZXJpbmclMjBQcm92ZW5hbmNlJTIyJTJDJTBBJTIwJTIwJTIwJTIwZGlzcGxheSUzRCUyMmthcnNhaSUyMGIlMjIlMkMlMEElMjAlMjAlMjAlMjBhdXRob3JzJTNEJTIyS2Fyc2FpJTJDJTIwTGludXMlMjIlMkMlMEElMjAlMjAlMjAlMjBwbGFjZSUzRFRoZXNpcyUyQyUwQSUyMCUyMCUyMCUyMGVudHJ5dHlwZSUzRCUyMnBoZHRoZXNpcyUyMiUyQyUwQSUyMCUyMCUyMCUyMElEJTNEJTIya2Fyc2FpMjAxNmNsdXN0ZXJpbmclMjIlMkMlMEElMjAlMjAlMjAlMjBsb2NhbCUzRCUyMlVuaXZlcnNpdHklMjBvZiUyMFN5ZG5leSUyMiUyQyUwQSUyOSUyOSUwQSUwQURCJTI4Q2l0YXRpb24lMjglMEElMjAlMjAlMjAlMjBrYXJzYWkyMDE2YiUyQyUyMGhvZWtzdHJhMjAxNGElMkMlMjByZWYlM0QlMjIlMjIlMkMlMEElMjAlMjAlMjAlMjBjb250ZXh0cyUzRCU1QiUwQSUwQSUyMCUyMCUyMCUyMCU1RCUyQyUwQSUyOSUyOSUwQSUwQSUyNyUyNyUyNyUyQyUyMGNpdGF0aW9ucyUzRCUyN2hvZWtzdHJhMjAxNGElMjclMjklM0I=\")));\n",
       "    "
      ],
      "text/plain": [
       "<IPython.core.display.Javascript object>"
      ]
     },
     "metadata": {},
     "output_type": "display_data"
    },
    {
     "data": {
      "application/javascript": [
       "$('span:contains(\"# Temp\")').closest('.cell').remove();"
      ],
      "text/plain": [
       "<IPython.core.display.Javascript object>"
      ]
     },
     "metadata": {},
     "output_type": "display_data"
    },
    {
     "data": {
      "application/javascript": [
       "\n",
       "        $('span:contains(\"# Temp\")').closest('.cell').remove();\n",
       "        var code = IPython.notebook.insert_cell_below('code');\n",
       "        var prompt = code.element.find(\".input_prompt\");\n",
       "        prompt.append('<br><button style=\"height: 100%; width: 54px;\">Run</button>');\n",
       "        prompt.on(\"click\", \"button\", function(){\n",
       "            code.execute();\n",
       "        });\n",
       "        code.set_text(decodeURIComponent(window.atob(\"JTIzJTIwVGVtcCUwQWluc2VydCUyOCUyNyUyNyUyNyUwQWthcnNhaTIwMTZiJTIwJTNEJTIwREIlMjhXb3JrJTI4JTBBJTIwJTIwJTIwJTIwMjAxNiUyQyUyMCUyMkNsdXN0ZXJpbmclMjBQcm92ZW5hbmNlJTIyJTJDJTBBJTIwJTIwJTIwJTIwZGlzcGxheSUzRCUyMmthcnNhaSUyMGIlMjIlMkMlMEElMjAlMjAlMjAlMjBhdXRob3JzJTNEJTIyS2Fyc2FpJTJDJTIwTGludXMlMjIlMkMlMEElMjAlMjAlMjAlMjBwbGFjZSUzRFRoZXNpcyUyQyUwQSUyMCUyMCUyMCUyMGVudHJ5dHlwZSUzRCUyMnBoZHRoZXNpcyUyMiUyQyUwQSUyMCUyMCUyMCUyMElEJTNEJTIya2Fyc2FpMjAxNmNsdXN0ZXJpbmclMjIlMkMlMEElMjAlMjAlMjAlMjBsb2NhbCUzRCUyMlVuaXZlcnNpdHklMjBvZiUyMFN5ZG5leSUyMiUyQyUwQSUyOSUyOSUwQSUwQURCJTI4Q2l0YXRpb24lMjglMEElMjAlMjAlMjAlMjBrYXJzYWkyMDE2YiUyQyUyMGhvZWtzdHJhMjAxNGElMkMlMjByZWYlM0QlMjIlMjIlMkMlMEElMjAlMjAlMjAlMjBjb250ZXh0cyUzRCU1QiUwQSUwQSUyMCUyMCUyMCUyMCU1RCUyQyUwQSUyOSUyOSUwQSUwQSUyNyUyNyUyNyUyQyUyMGNpdGF0aW9ucyUzRCUyN2hvZWtzdHJhMjAxNGElMjclMjklM0I=\")));\n",
       "    "
      ],
      "text/plain": [
       "<IPython.core.display.Javascript object>"
      ]
     },
     "metadata": {},
     "output_type": "display_data"
    },
    {
     "data": {
      "application/javascript": [
       "$('span:contains(\"# Temp\")').closest('.cell').remove();"
      ],
      "text/plain": [
       "<IPython.core.display.Javascript object>"
      ]
     },
     "metadata": {},
     "output_type": "display_data"
    },
    {
     "data": {
      "application/javascript": [
       "\n",
       "        $('span:contains(\"# Temp\")').closest('.cell').remove();\n",
       "        var code = IPython.notebook.insert_cell_below('code');\n",
       "        var prompt = code.element.find(\".input_prompt\");\n",
       "        prompt.append('<br><button style=\"height: 100%; width: 54px;\">Run</button>');\n",
       "        prompt.on(\"click\", \"button\", function(){\n",
       "            code.execute();\n",
       "        });\n",
       "        code.set_text(decodeURIComponent(window.atob(\"JTIzJTIwVGVtcCUwQWluc2VydCUyOCUyNyUyNyUyNyUwQURCJTI4Q2l0YXRpb24lMjglMEElMjAlMjAlMjAlMjBkaXZpZGlubzIwMTdhJTJDJTIwaG9la3N0cmEyMDE0YSUyQyUyMHJlZiUzRCUyMiUyMiUyQyUwQSUyMCUyMCUyMCUyMGNvbnRleHRzJTNEJTVCJTBBJTBBJTIwJTIwJTIwJTIwJTVEJTJDJTBBJTI5JTI5JTBBJTBBJTI3JTI3JTI3JTJDJTIwY2l0YXRpb25zJTNEJTI3aG9la3N0cmEyMDE0YSUyNyUyOSUzQg==\")));\n",
       "    "
      ],
      "text/plain": [
       "<IPython.core.display.Javascript object>"
      ]
     },
     "metadata": {},
     "output_type": "display_data"
    },
    {
     "data": {
      "application/javascript": [
       "$('span:contains(\"# Temp\")').closest('.cell').remove();"
      ],
      "text/plain": [
       "<IPython.core.display.Javascript object>"
      ]
     },
     "metadata": {},
     "output_type": "display_data"
    },
    {
     "data": {
      "application/javascript": [
       "\n",
       "        $('span:contains(\"# Temp\")').closest('.cell').remove();\n",
       "        var code = IPython.notebook.insert_cell_below('code');\n",
       "        var prompt = code.element.find(\".input_prompt\");\n",
       "        prompt.append('<br><button style=\"height: 100%; width: 54px;\">Run</button>');\n",
       "        prompt.on(\"click\", \"button\", function(){\n",
       "            code.execute();\n",
       "        });\n",
       "        code.set_text(decodeURIComponent(window.atob(\"JTIzJTIwVGVtcCUwQWluc2VydCUyOCUyNyUyNyUyNyUwQURCJTI4Q2l0YXRpb24lMjglMEElMjAlMjAlMjAlMjBkaXZpZGlubzIwMTdhJTJDJTIwaG9la3N0cmEyMDE0YSUyQyUyMHJlZiUzRCUyMiUyMiUyQyUwQSUyMCUyMCUyMCUyMGNvbnRleHRzJTNEJTVCJTBBJTBBJTIwJTIwJTIwJTIwJTVEJTJDJTBBJTI5JTI5JTBBJTBBJTI3JTI3JTI3JTJDJTIwY2l0YXRpb25zJTNEJTI3aG9la3N0cmEyMDE0YSUyNyUyOSUzQg==\")));\n",
       "    "
      ],
      "text/plain": [
       "<IPython.core.display.Javascript object>"
      ]
     },
     "metadata": {},
     "output_type": "display_data"
    },
    {
     "data": {
      "application/javascript": [
       "$('span:contains(\"# Temp\")').closest('.cell').remove();"
      ],
      "text/plain": [
       "<IPython.core.display.Javascript object>"
      ]
     },
     "metadata": {},
     "output_type": "display_data"
    },
    {
     "data": {
      "application/javascript": [
       "\n",
       "        $('span:contains(\"# Temp\")').closest('.cell').remove();\n",
       "        var code = IPython.notebook.insert_cell_below('code');\n",
       "        var prompt = code.element.find(\".input_prompt\");\n",
       "        prompt.append('<br><button style=\"height: 100%; width: 54px;\">Run</button>');\n",
       "        prompt.on(\"click\", \"button\", function(){\n",
       "            code.execute();\n",
       "        });\n",
       "        code.set_text(decodeURIComponent(window.atob(\"JTIzJTIwVGVtcCUwQWluc2VydCUyOCUyNyUyNyUyNyUwQWdhcmlqbzIwMTBhJTIwJTNEJTIwREIlMjhXb3JrJTI4JTBBJTIwJTIwJTIwJTIwMjAxMCUyQyUyMCUyMlRvd2FyZHMlMjBXb3JrZmxvdyUyMEVjb3N5c3RlbXMlMjBUaHJvdWdoJTIwU3RhbmRhcmQlMjBSZXByZXNlbnRhdGlvbnMlMjIlMkMlMEElMjAlMjAlMjAlMjBkaXNwbGF5JTNEJTIyZ2FyaWpvJTIyJTJDJTBBJTIwJTIwJTIwJTIwYXV0aG9ycyUzRCUyMkdhcmlqbyUyQyUyMERhbmllbCUyMGFuZCUyMEdpbCUyQyUyMFlvbGFuZGElMjBhbmQlMjBDb3JjaG8lMkMlMjBPc2NhciUyMiUyQyUwQSUyMCUyMCUyMCUyMHBsYWNlMSUzRCUyMiUyMiUyQyUwQSUyMCUyMCUyMCUyMGVudHJ5dHlwZSUzRCUyMmFydGljbGUlMjIlMkMlMEElMjAlMjAlMjAlMjBJRCUzRCUyMmdhcmlqbzIwMTB0b3dhcmRzJTIyJTJDJTBBJTI5JTI5JTBBJTBBREIlMjhDaXRhdGlvbiUyOCUwQSUyMCUyMCUyMCUyMGdhcmlqbzIwMTBhJTJDJTIwaG9la3N0cmEyMDE0YSUyQyUyMHJlZiUzRCUyMiUyMiUyQyUwQSUyMCUyMCUyMCUyMGNvbnRleHRzJTNEJTVCJTBBJTBBJTIwJTIwJTIwJTIwJTVEJTJDJTBBJTI5JTI5JTBBJTBBJTI3JTI3JTI3JTJDJTIwY2l0YXRpb25zJTNEJTI3aG9la3N0cmEyMDE0YSUyNyUyOSUzQg==\")));\n",
       "    "
      ],
      "text/plain": [
       "<IPython.core.display.Javascript object>"
      ]
     },
     "metadata": {},
     "output_type": "display_data"
    },
    {
     "data": {
      "application/javascript": [
       "$('span:contains(\"# Temp\")').closest('.cell').remove();"
      ],
      "text/plain": [
       "<IPython.core.display.Javascript object>"
      ]
     },
     "metadata": {},
     "output_type": "display_data"
    },
    {
     "data": {
      "application/javascript": [
       "\n",
       "        $('span:contains(\"# Temp\")').closest('.cell').remove();\n",
       "        var code = IPython.notebook.insert_cell_below('code');\n",
       "        var prompt = code.element.find(\".input_prompt\");\n",
       "        prompt.append('<br><button style=\"height: 100%; width: 54px;\">Run</button>');\n",
       "        prompt.on(\"click\", \"button\", function(){\n",
       "            code.execute();\n",
       "        });\n",
       "        code.set_text(decodeURIComponent(window.atob(\"JTIzJTIwVGVtcCUwQWluc2VydCUyOCUyNyUyNyUyNyUwQWdhcmlqbzIwMTBhJTIwJTNEJTIwREIlMjhXb3JrJTI4JTBBJTIwJTIwJTIwJTIwMjAxMCUyQyUyMCUyMlRvd2FyZHMlMjBXb3JrZmxvdyUyMEVjb3N5c3RlbXMlMjBUaHJvdWdoJTIwU3RhbmRhcmQlMjBSZXByZXNlbnRhdGlvbnMlMjIlMkMlMEElMjAlMjAlMjAlMjBkaXNwbGF5JTNEJTIyZ2FyaWpvJTIyJTJDJTBBJTIwJTIwJTIwJTIwYXV0aG9ycyUzRCUyMkdhcmlqbyUyQyUyMERhbmllbCUyMGFuZCUyMEdpbCUyQyUyMFlvbGFuZGElMjBhbmQlMjBDb3JjaG8lMkMlMjBPc2NhciUyMiUyQyUwQSUyMCUyMCUyMCUyMHBsYWNlMSUzRCUyMiUyMiUyQyUwQSUyMCUyMCUyMCUyMGVudHJ5dHlwZSUzRCUyMmFydGljbGUlMjIlMkMlMEElMjAlMjAlMjAlMjBJRCUzRCUyMmdhcmlqbzIwMTB0b3dhcmRzJTIyJTJDJTBBJTI5JTI5JTBBJTBBREIlMjhDaXRhdGlvbiUyOCUwQSUyMCUyMCUyMCUyMGdhcmlqbzIwMTBhJTJDJTIwaG9la3N0cmEyMDE0YSUyQyUyMHJlZiUzRCUyMiUyMiUyQyUwQSUyMCUyMCUyMCUyMGNvbnRleHRzJTNEJTVCJTBBJTBBJTIwJTIwJTIwJTIwJTVEJTJDJTBBJTI5JTI5JTBBJTBBJTI3JTI3JTI3JTJDJTIwY2l0YXRpb25zJTNEJTI3aG9la3N0cmEyMDE0YSUyNyUyOSUzQg==\")));\n",
       "    "
      ],
      "text/plain": [
       "<IPython.core.display.Javascript object>"
      ]
     },
     "metadata": {},
     "output_type": "display_data"
    },
    {
     "data": {
      "application/javascript": [
       "$('span:contains(\"# Temp\")').closest('.cell').remove();"
      ],
      "text/plain": [
       "<IPython.core.display.Javascript object>"
      ]
     },
     "metadata": {},
     "output_type": "display_data"
    },
    {
     "data": {
      "application/javascript": [
       "\n",
       "        $('span:contains(\"# Temp\")').closest('.cell').remove();\n",
       "        var code = IPython.notebook.insert_cell_below('code');\n",
       "        var prompt = code.element.find(\".input_prompt\");\n",
       "        prompt.append('<br><button style=\"height: 100%; width: 54px;\">Run</button>');\n",
       "        prompt.on(\"click\", \"button\", function(){\n",
       "            code.execute();\n",
       "        });\n",
       "        code.set_text(decodeURIComponent(window.atob(\"JTIzJTIwVGVtcCUwQWluc2VydCUyOCUyNyUyNyUyNyUwQWdhcmlqbzIwMTBhJTIwJTNEJTIwREIlMjhXb3JrJTI4JTBBJTIwJTIwJTIwJTIwMjAxMCUyQyUyMCUyMlRvd2FyZHMlMjBXb3JrZmxvdyUyMEVjb3N5c3RlbXMlMjBUaHJvdWdoJTIwU3RhbmRhcmQlMjBSZXByZXNlbnRhdGlvbnMlMjIlMkMlMEElMjAlMjAlMjAlMjBkaXNwbGF5JTNEJTIyZ2FyaWpvJTIyJTJDJTBBJTIwJTIwJTIwJTIwYXV0aG9ycyUzRCUyMkdhcmlqbyUyQyUyMERhbmllbCUyMGFuZCUyMEdpbCUyQyUyMFlvbGFuZGElMjBhbmQlMjBDb3JjaG8lMkMlMjBPc2NhciUyMiUyQyUwQSUyMCUyMCUyMCUyMHBsYWNlJTNEV09SS1MlMkMlMEElMjAlMjAlMjAlMjBlbnRyeXR5cGUlM0QlMjJhcnRpY2xlJTIyJTJDJTBBJTIwJTIwJTIwJTIwSUQlM0QlMjJnYXJpam8yMDEwdG93YXJkcyUyMiUyQyUwQSUyOSUyOSUwQSUwQURCJTI4Q2l0YXRpb24lMjglMEElMjAlMjAlMjAlMjBnYXJpam8yMDEwYSUyQyUyMGhvZWtzdHJhMjAxNGElMkMlMjByZWYlM0QlMjIlMjIlMkMlMEElMjAlMjAlMjAlMjBjb250ZXh0cyUzRCU1QiUwQSUwQSUyMCUyMCUyMCUyMCU1RCUyQyUwQSUyOSUyOSUwQSUwQSUyNyUyNyUyNyUyQyUyMGNpdGF0aW9ucyUzRCUyN2hvZWtzdHJhMjAxNGElMjclMjklM0I=\")));\n",
       "    "
      ],
      "text/plain": [
       "<IPython.core.display.Javascript object>"
      ]
     },
     "metadata": {},
     "output_type": "display_data"
    },
    {
     "data": {
      "application/javascript": [
       "$('span:contains(\"# Temp\")').closest('.cell').remove();"
      ],
      "text/plain": [
       "<IPython.core.display.Javascript object>"
      ]
     },
     "metadata": {},
     "output_type": "display_data"
    },
    {
     "data": {
      "application/javascript": [
       "$('span:contains(\"# Temp\")').closest('.cell').remove();"
      ],
      "text/plain": [
       "<IPython.core.display.Javascript object>"
      ]
     },
     "metadata": {},
     "output_type": "display_data"
    },
    {
     "data": {
      "application/javascript": [
       "$('span:contains(\"# Temp\")').closest('.cell').remove();"
      ],
      "text/plain": [
       "<IPython.core.display.Javascript object>"
      ]
     },
     "metadata": {},
     "output_type": "display_data"
    },
    {
     "data": {
      "application/javascript": [
       "$('span:contains(\"# Temp\")').closest('.cell').remove();"
      ],
      "text/plain": [
       "<IPython.core.display.Javascript object>"
      ]
     },
     "metadata": {},
     "output_type": "display_data"
    },
    {
     "data": {
      "application/javascript": [
       "\n",
       "        $('span:contains(\"# Temp\")').closest('.cell').remove();\n",
       "        var code = IPython.notebook.insert_cell_below('code');\n",
       "        var prompt = code.element.find(\".input_prompt\");\n",
       "        prompt.append('<br><button style=\"height: 100%; width: 54px;\">Run</button>');\n",
       "        prompt.on(\"click\", \"button\", function(){\n",
       "            code.execute();\n",
       "        });\n",
       "        code.set_text(decodeURIComponent(window.atob(\"JTIzJTIwVGVtcCUwQWluc2VydCUyOCUyNyUyNyUyNyUwQXNoYW1kYXNhbmkyMDE1YSUyMCUzRCUyMERCJTI4V29yayUyOCUwQSUyMCUyMCUyMCUyMDIwMTUlMkMlMjAlMjJBbmFseXNpcyUyMFRyYWNlYWJpbGl0eSUyMGFuZCUyMFByb3ZlbmFuY2UlMjBmb3IlMjBIRVAlMjIlMkMlMEElMjAlMjAlMjAlMjBkaXNwbGF5JTNEJTIyc2hhbWRhc2FuaSUyMiUyQyUwQSUyMCUyMCUyMCUyMGF1dGhvcnMlM0QlMjJTaGFtZGFzYW5pJTJDJTIwSmV0ZW5kciUyMGFuZCUyME1jQ2xhdGNoZXklMkMlMjBSaWNoYXJkJTIwYW5kJTIwQnJhbnNvbiUyQyUyMEFuZHJldyUyMGFuZCUyMEtvdiVDMyVBMWNzJTJDJTIwWnNvbHQlMjIlMkMlMEElMjAlMjAlMjAlMjBwcCUzRCUyMjAzMjAyOCUyMiUyQyUwQSUyMCUyMCUyMCUyMHBsYWNlMSUzRCUyMkpvdXJuYWwlMjBvZiUyMFBoeXNpY3MlM0ElMjBDb25mZXJlbmNlJTIwU2VyaWVzJTIyJTJDJTBBJTIwJTIwJTIwJTIwZW50cnl0eXBlJTNEJTIyaW5wcm9jZWVkaW5ncyUyMiUyQyUwQSUyMCUyMCUyMCUyMHZvbHVtZSUzRCUyMjY2NCUyMiUyQyUwQSUyMCUyMCUyMCUyMG51bWJlciUzRCUyMjMlMjIlMkMlMEElMjAlMjAlMjAlMjBvcmdhbml6YXRpb24lM0QlMjJJT1AlMjBQdWJsaXNoaW5nJTIyJTJDJTBBJTIwJTIwJTIwJTIwSUQlM0QlMjJzaGFtZGFzYW5pMjAxNWFuYWx5c2lzJTIyJTJDJTBBJTI5JTI5JTBBJTBBREIlMjhDaXRhdGlvbiUyOCUwQSUyMCUyMCUyMCUyMHNoYW1kYXNhbmkyMDE1YSUyQyUyMGhvZWtzdHJhMjAxNGElMkMlMjByZWYlM0QlMjIlMjIlMkMlMEElMjAlMjAlMjAlMjBjb250ZXh0cyUzRCU1QiUwQSUwQSUyMCUyMCUyMCUyMCU1RCUyQyUwQSUyOSUyOSUwQSUwQSUyNyUyNyUyNyUyQyUyMGNpdGF0aW9ucyUzRCUyN2hvZWtzdHJhMjAxNGElMjclMjklM0I=\")));\n",
       "    "
      ],
      "text/plain": [
       "<IPython.core.display.Javascript object>"
      ]
     },
     "metadata": {},
     "output_type": "display_data"
    },
    {
     "data": {
      "application/javascript": [
       "$('span:contains(\"# Temp\")').closest('.cell').remove();"
      ],
      "text/plain": [
       "<IPython.core.display.Javascript object>"
      ]
     },
     "metadata": {},
     "output_type": "display_data"
    },
    {
     "data": {
      "application/javascript": [
       "\n",
       "        $('span:contains(\"# Temp\")').closest('.cell').remove();\n",
       "        var code = IPython.notebook.insert_cell_below('code');\n",
       "        var prompt = code.element.find(\".input_prompt\");\n",
       "        prompt.append('<br><button style=\"height: 100%; width: 54px;\">Run</button>');\n",
       "        prompt.on(\"click\", \"button\", function(){\n",
       "            code.execute();\n",
       "        });\n",
       "        code.set_text(decodeURIComponent(window.atob(\"JTIzJTIwVGVtcCUwQWluc2VydCUyOCUyNyUyNyUyNyUwQXNoYW1kYXNhbmkyMDE1YSUyMCUzRCUyMERCJTI4V29yayUyOCUwQSUyMCUyMCUyMCUyMDIwMTUlMkMlMjAlMjJBbmFseXNpcyUyMFRyYWNlYWJpbGl0eSUyMGFuZCUyMFByb3ZlbmFuY2UlMjBmb3IlMjBIRVAlMjIlMkMlMEElMjAlMjAlMjAlMjBkaXNwbGF5JTNEJTIyc2hhbWRhc2FuaSUyMiUyQyUwQSUyMCUyMCUyMCUyMGF1dGhvcnMlM0QlMjJTaGFtZGFzYW5pJTJDJTIwSmV0ZW5kciUyMGFuZCUyME1jQ2xhdGNoZXklMkMlMjBSaWNoYXJkJTIwYW5kJTIwQnJhbnNvbiUyQyUyMEFuZHJldyUyMGFuZCUyMEtvdiVDMyVBMWNzJTJDJTIwWnNvbHQlMjIlMkMlMEElMjAlMjAlMjAlMjBwcCUzRCUyMjAzMjAyOCUyMiUyQyUwQSUyMCUyMCUyMCUyMHBsYWNlMSUzRCUyMkpvdXJuYWwlMjBvZiUyMFBoeXNpY3MlM0ElMjBDb25mZXJlbmNlJTIwU2VyaWVzJTIyJTJDJTBBJTIwJTIwJTIwJTIwZW50cnl0eXBlJTNEJTIyaW5wcm9jZWVkaW5ncyUyMiUyQyUwQSUyMCUyMCUyMCUyMHZvbHVtZSUzRCUyMjY2NCUyMiUyQyUwQSUyMCUyMCUyMCUyMG51bWJlciUzRCUyMjMlMjIlMkMlMEElMjAlMjAlMjAlMjBvcmdhbml6YXRpb24lM0QlMjJJT1AlMjBQdWJsaXNoaW5nJTIyJTJDJTBBJTIwJTIwJTIwJTIwSUQlM0QlMjJzaGFtZGFzYW5pMjAxNWFuYWx5c2lzJTIyJTJDJTBBJTI5JTI5JTBBJTBBREIlMjhDaXRhdGlvbiUyOCUwQSUyMCUyMCUyMCUyMHNoYW1kYXNhbmkyMDE1YSUyQyUyMGhvZWtzdHJhMjAxNGElMkMlMjByZWYlM0QlMjIlMjIlMkMlMEElMjAlMjAlMjAlMjBjb250ZXh0cyUzRCU1QiUwQSUwQSUyMCUyMCUyMCUyMCU1RCUyQyUwQSUyOSUyOSUwQSUwQSUyNyUyNyUyNyUyQyUyMGNpdGF0aW9ucyUzRCUyN2hvZWtzdHJhMjAxNGElMjclMjklM0I=\")));\n",
       "    "
      ],
      "text/plain": [
       "<IPython.core.display.Javascript object>"
      ]
     },
     "metadata": {},
     "output_type": "display_data"
    },
    {
     "data": {
      "application/javascript": [
       "$('span:contains(\"# Temp\")').closest('.cell').remove();"
      ],
      "text/plain": [
       "<IPython.core.display.Javascript object>"
      ]
     },
     "metadata": {},
     "output_type": "display_data"
    },
    {
     "data": {
      "application/javascript": [
       "\n",
       "        $('span:contains(\"# Temp\")').closest('.cell').remove();\n",
       "        var code = IPython.notebook.insert_cell_below('code');\n",
       "        var prompt = code.element.find(\".input_prompt\");\n",
       "        prompt.append('<br><button style=\"height: 100%; width: 54px;\">Run</button>');\n",
       "        prompt.on(\"click\", \"button\", function(){\n",
       "            code.execute();\n",
       "        });\n",
       "        code.set_text(decodeURIComponent(window.atob(\"JTIzJTIwVGVtcCUwQWluc2VydCUyOCUyNyUyNyUyNyUwQXNoYW1kYXNhbmkyMDE1YSUyMCUzRCUyMERCJTI4V29yayUyOCUwQSUyMCUyMCUyMCUyMDIwMTUlMkMlMjAlMjJBbmFseXNpcyUyMFRyYWNlYWJpbGl0eSUyMGFuZCUyMFByb3ZlbmFuY2UlMjBmb3IlMjBIRVAlMjIlMkMlMEElMjAlMjAlMjAlMjBkaXNwbGF5JTNEJTIyc2hhbWRhc2FuaSUyMiUyQyUwQSUyMCUyMCUyMCUyMGF1dGhvcnMlM0QlMjJTaGFtZGFzYW5pJTJDJTIwSmV0ZW5kciUyMGFuZCUyME1jQ2xhdGNoZXklMkMlMjBSaWNoYXJkJTIwYW5kJTIwQnJhbnNvbiUyQyUyMEFuZHJldyUyMGFuZCUyMEtvdiVDMyVBMWNzJTJDJTIwWnNvbHQlMjIlMkMlMEElMjAlMjAlMjAlMjBwbGFjZSUzREpQQ1MlMkMlMEElMjAlMjAlMjAlMjBwcCUzRCUyMjAzMjAyOCUyMiUyQyUwQSUyMCUyMCUyMCUyMGVudHJ5dHlwZSUzRCUyMmlucHJvY2VlZGluZ3MlMjIlMkMlMEElMjAlMjAlMjAlMjB2b2x1bWUlM0QlMjI2NjQlMjIlMkMlMEElMjAlMjAlMjAlMjBudW1iZXIlM0QlMjIzJTIyJTJDJTBBJTIwJTIwJTIwJTIwb3JnYW5pemF0aW9uJTNEJTIySU9QJTIwUHVibGlzaGluZyUyMiUyQyUwQSUyMCUyMCUyMCUyMElEJTNEJTIyc2hhbWRhc2FuaTIwMTVhbmFseXNpcyUyMiUyQyUwQSUyOSUyOSUwQSUwQURCJTI4Q2l0YXRpb24lMjglMEElMjAlMjAlMjAlMjBzaGFtZGFzYW5pMjAxNWElMkMlMjBob2Vrc3RyYTIwMTRhJTJDJTIwcmVmJTNEJTIyJTIyJTJDJTBBJTIwJTIwJTIwJTIwY29udGV4dHMlM0QlNUIlMEElMEElMjAlMjAlMjAlMjAlNUQlMkMlMEElMjklMjklMEElMEElMjclMjclMjclMkMlMjBjaXRhdGlvbnMlM0QlMjdob2Vrc3RyYTIwMTRhJTI3JTI5JTNC\")));\n",
       "    "
      ],
      "text/plain": [
       "<IPython.core.display.Javascript object>"
      ]
     },
     "metadata": {},
     "output_type": "display_data"
    },
    {
     "data": {
      "application/javascript": [
       "$('span:contains(\"# Temp\")').closest('.cell').remove();"
      ],
      "text/plain": [
       "<IPython.core.display.Javascript object>"
      ]
     },
     "metadata": {},
     "output_type": "display_data"
    },
    {
     "data": {
      "application/javascript": [
       "\n",
       "        $('span:contains(\"# Temp\")').closest('.cell').remove();\n",
       "        var code = IPython.notebook.insert_cell_below('code');\n",
       "        var prompt = code.element.find(\".input_prompt\");\n",
       "        prompt.append('<br><button style=\"height: 100%; width: 54px;\">Run</button>');\n",
       "        prompt.on(\"click\", \"button\", function(){\n",
       "            code.execute();\n",
       "        });\n",
       "        code.set_text(decodeURIComponent(window.atob(\"JTIzJTIwVGVtcCUwQWluc2VydCUyOCUyNyUyNyUyNyUwQURCJTI4Q2l0YXRpb24lMjglMEElMjAlMjAlMjAlMjBjb3N0YTIwMTZhJTJDJTIwaG9la3N0cmEyMDE0YSUyQyUyMHJlZiUzRCUyMiUyMiUyQyUwQSUyMCUyMCUyMCUyMGNvbnRleHRzJTNEJTVCJTBBJTBBJTIwJTIwJTIwJTIwJTVEJTJDJTBBJTI5JTI5JTBBJTBBJTI3JTI3JTI3JTJDJTIwY2l0YXRpb25zJTNEJTI3aG9la3N0cmEyMDE0YSUyNyUyOSUzQg==\")));\n",
       "    "
      ],
      "text/plain": [
       "<IPython.core.display.Javascript object>"
      ]
     },
     "metadata": {},
     "output_type": "display_data"
    },
    {
     "data": {
      "application/javascript": [
       "$('span:contains(\"# Temp\")').closest('.cell').remove();"
      ],
      "text/plain": [
       "<IPython.core.display.Javascript object>"
      ]
     },
     "metadata": {},
     "output_type": "display_data"
    },
    {
     "data": {
      "application/javascript": [
       "\n",
       "        $('span:contains(\"# Temp\")').closest('.cell').remove();\n",
       "        var code = IPython.notebook.insert_cell_below('code');\n",
       "        var prompt = code.element.find(\".input_prompt\");\n",
       "        prompt.append('<br><button style=\"height: 100%; width: 54px;\">Run</button>');\n",
       "        prompt.on(\"click\", \"button\", function(){\n",
       "            code.execute();\n",
       "        });\n",
       "        code.set_text(decodeURIComponent(window.atob(\"JTIzJTIwVGVtcCUwQWluc2VydCUyOCUyNyUyNyUyNyUwQURCJTI4Q2l0YXRpb24lMjglMEElMjAlMjAlMjAlMjBjb3N0YTIwMTZhJTJDJTIwaG9la3N0cmEyMDE0YSUyQyUyMHJlZiUzRCUyMiUyMiUyQyUwQSUyMCUyMCUyMCUyMGNvbnRleHRzJTNEJTVCJTBBJTBBJTIwJTIwJTIwJTIwJTVEJTJDJTBBJTI5JTI5JTBBJTBBJTI3JTI3JTI3JTJDJTIwY2l0YXRpb25zJTNEJTI3aG9la3N0cmEyMDE0YSUyNyUyOSUzQg==\")));\n",
       "    "
      ],
      "text/plain": [
       "<IPython.core.display.Javascript object>"
      ]
     },
     "metadata": {},
     "output_type": "display_data"
    },
    {
     "data": {
      "application/javascript": [
       "$('span:contains(\"# Temp\")').closest('.cell').remove();"
      ],
      "text/plain": [
       "<IPython.core.display.Javascript object>"
      ]
     },
     "metadata": {},
     "output_type": "display_data"
    },
    {
     "data": {
      "application/javascript": [
       "\n",
       "        $('span:contains(\"# Temp\")').closest('.cell').remove();\n",
       "        var code = IPython.notebook.insert_cell_below('code');\n",
       "        var prompt = code.element.find(\".input_prompt\");\n",
       "        prompt.append('<br><button style=\"height: 100%; width: 54px;\">Run</button>');\n",
       "        prompt.on(\"click\", \"button\", function(){\n",
       "            code.execute();\n",
       "        });\n",
       "        code.set_text(decodeURIComponent(window.atob(\"JTIzJTIwVGVtcCUwQWluc2VydCUyOCUyNyUyNyUyNyUwQURCJTI4Q2l0YXRpb24lMjglMEElMjAlMjAlMjAlMjBzY2hyZWliZXIyMDE4YSUyQyUyMGhvZWtzdHJhMjAxNGElMkMlMjByZWYlM0QlMjIlMjIlMkMlMEElMjAlMjAlMjAlMjBjb250ZXh0cyUzRCU1QiUwQSUwQSUyMCUyMCUyMCUyMCU1RCUyQyUwQSUyOSUyOSUwQSUwQSUyNyUyNyUyNyUyQyUyMGNpdGF0aW9ucyUzRCUyN2hvZWtzdHJhMjAxNGElMjclMjklM0I=\")));\n",
       "    "
      ],
      "text/plain": [
       "<IPython.core.display.Javascript object>"
      ]
     },
     "metadata": {},
     "output_type": "display_data"
    },
    {
     "data": {
      "application/javascript": [
       "$('span:contains(\"# Temp\")').closest('.cell').remove();"
      ],
      "text/plain": [
       "<IPython.core.display.Javascript object>"
      ]
     },
     "metadata": {},
     "output_type": "display_data"
    },
    {
     "data": {
      "application/javascript": [
       "\n",
       "        $('span:contains(\"# Temp\")').closest('.cell').remove();\n",
       "        var code = IPython.notebook.insert_cell_below('code');\n",
       "        var prompt = code.element.find(\".input_prompt\");\n",
       "        prompt.append('<br><button style=\"height: 100%; width: 54px;\">Run</button>');\n",
       "        prompt.on(\"click\", \"button\", function(){\n",
       "            code.execute();\n",
       "        });\n",
       "        code.set_text(decodeURIComponent(window.atob(\"JTIzJTIwVGVtcCUwQWluc2VydCUyOCUyNyUyNyUyNyUwQURCJTI4Q2l0YXRpb24lMjglMEElMjAlMjAlMjAlMjBzY2hyZWliZXIyMDE4YSUyQyUyMGhvZWtzdHJhMjAxNGElMkMlMjByZWYlM0QlMjIlMjIlMkMlMEElMjAlMjAlMjAlMjBjb250ZXh0cyUzRCU1QiUwQSUwQSUyMCUyMCUyMCUyMCU1RCUyQyUwQSUyOSUyOSUwQSUwQSUyNyUyNyUyNyUyQyUyMGNpdGF0aW9ucyUzRCUyN2hvZWtzdHJhMjAxNGElMjclMjklM0I=\")));\n",
       "    "
      ],
      "text/plain": [
       "<IPython.core.display.Javascript object>"
      ]
     },
     "metadata": {},
     "output_type": "display_data"
    },
    {
     "data": {
      "application/javascript": [
       "$('span:contains(\"# Temp\")').closest('.cell').remove();"
      ],
      "text/plain": [
       "<IPython.core.display.Javascript object>"
      ]
     },
     "metadata": {},
     "output_type": "display_data"
    },
    {
     "data": {
      "application/javascript": [
       "$('span:contains(\"# Temp\")').closest('.cell').remove();"
      ],
      "text/plain": [
       "<IPython.core.display.Javascript object>"
      ]
     },
     "metadata": {},
     "output_type": "display_data"
    },
    {
     "data": {
      "application/javascript": [
       "$('span:contains(\"# Temp\")').closest('.cell').remove();"
      ],
      "text/plain": [
       "<IPython.core.display.Javascript object>"
      ]
     },
     "metadata": {},
     "output_type": "display_data"
    },
    {
     "data": {
      "application/javascript": [
       "$('span:contains(\"# Temp\")').closest('.cell').remove();"
      ],
      "text/plain": [
       "<IPython.core.display.Javascript object>"
      ]
     },
     "metadata": {},
     "output_type": "display_data"
    },
    {
     "data": {
      "application/javascript": [
       "\n",
       "        $('span:contains(\"# Temp\")').closest('.cell').remove();\n",
       "        var code = IPython.notebook.insert_cell_below('code');\n",
       "        var prompt = code.element.find(\".input_prompt\");\n",
       "        prompt.append('<br><button style=\"height: 100%; width: 54px;\">Run</button>');\n",
       "        prompt.on(\"click\", \"button\", function(){\n",
       "            code.execute();\n",
       "        });\n",
       "        code.set_text(decodeURIComponent(window.atob(\"JTIzJTIwVGVtcCUwQWluc2VydCUyOCUyNyUyNyUyNyUwQURCJTI4Q2l0YXRpb24lMjglMEElMjAlMjAlMjAlMjBsYW5nMjAxNmElMkMlMjBob2Vrc3RyYTIwMTRhJTJDJTIwcmVmJTNEJTIyJTIyJTJDJTBBJTIwJTIwJTIwJTIwY29udGV4dHMlM0QlNUIlMEElMEElMjAlMjAlMjAlMjAlNUQlMkMlMEElMjklMjklMEElMEElMjclMjclMjclMkMlMjBjaXRhdGlvbnMlM0QlMjdob2Vrc3RyYTIwMTRhJTI3JTI5JTNC\")));\n",
       "    "
      ],
      "text/plain": [
       "<IPython.core.display.Javascript object>"
      ]
     },
     "metadata": {},
     "output_type": "display_data"
    },
    {
     "data": {
      "application/javascript": [
       "$('span:contains(\"# Temp\")').closest('.cell').remove();"
      ],
      "text/plain": [
       "<IPython.core.display.Javascript object>"
      ]
     },
     "metadata": {},
     "output_type": "display_data"
    },
    {
     "data": {
      "application/javascript": [
       "\n",
       "        $('span:contains(\"# Temp\")').closest('.cell').remove();\n",
       "        var code = IPython.notebook.insert_cell_below('code');\n",
       "        var prompt = code.element.find(\".input_prompt\");\n",
       "        prompt.append('<br><button style=\"height: 100%; width: 54px;\">Run</button>');\n",
       "        prompt.on(\"click\", \"button\", function(){\n",
       "            code.execute();\n",
       "        });\n",
       "        code.set_text(decodeURIComponent(window.atob(\"JTIzJTIwVGVtcCUwQWluc2VydCUyOCUyNyUyNyUyNyUwQURCJTI4Q2l0YXRpb24lMjglMEElMjAlMjAlMjAlMjBsYW5nMjAxNmElMkMlMjBob2Vrc3RyYTIwMTRhJTJDJTIwcmVmJTNEJTIyJTIyJTJDJTBBJTIwJTIwJTIwJTIwY29udGV4dHMlM0QlNUIlMEElMEElMjAlMjAlMjAlMjAlNUQlMkMlMEElMjklMjklMEElMEElMjclMjclMjclMkMlMjBjaXRhdGlvbnMlM0QlMjdob2Vrc3RyYTIwMTRhJTI3JTI5JTNC\")));\n",
       "    "
      ],
      "text/plain": [
       "<IPython.core.display.Javascript object>"
      ]
     },
     "metadata": {},
     "output_type": "display_data"
    }
   ],
   "source": [
    "manager.browser()"
   ]
  },
  {
   "cell_type": "code",
   "execution_count": 503,
   "metadata": {},
   "outputs": [
    {
     "name": "stdout",
     "output_type": "stream",
     "text": [
      "-Insert Import: lang2016a\n",
      "-Insert Citation: lang2016a -> hoekstra2014a\n"
     ]
    }
   ],
   "source": [
    "# Temp\n",
    "insert('''\n",
    "DB(Citation(\n",
    "    lang2016a, hoekstra2014a, ref=\"\",\n",
    "    contexts=[\n",
    "\n",
    "    ],\n",
    "))\n",
    "\n",
    "''', citations='hoekstra2014a');"
   ]
  },
  {
   "cell_type": "code",
   "execution_count": 504,
   "metadata": {},
   "outputs": [
    {
     "data": {
      "text/plain": [
       "18"
      ]
     },
     "execution_count": 504,
     "metadata": {},
     "output_type": "execute_result"
    }
   ],
   "source": [
    "from snowballing.strategies import Strategy\n",
    "strategy = Strategy({})\n",
    "work = work_by_varname(\"hoekstra2014a\")\n",
    "len(set(strategy.rev_ref[work]))"
   ]
  },
  {
   "cell_type": "code",
   "execution_count": 505,
   "metadata": {
    "collapsed": true
   },
   "outputs": [],
   "source": [
    "set_attribute(\"hoekstra2014a\", \"delta_scholar\", 2);"
   ]
  },
  {
   "cell_type": "code",
   "execution_count": 16,
   "metadata": {},
   "outputs": [
    {
     "data": {
      "application/vnd.jupyter.widget-view+json": {
       "model_id": "ee81ee36fb63465cb0ee707f197e88c3",
       "version_major": 2,
       "version_minor": 0
      },
      "text/plain": [
       "A Jupyter Widget"
      ]
     },
     "metadata": {},
     "output_type": "display_data"
    }
   ],
   "source": [
    "from ipywidgets import interact\n",
    "@interact\n",
    "def f(text=\"\", result=\"\"):\n",
    "    result = \"alias=({}),\".format(text)\n",
    "    if 'f' in get_ipython().user_ns:\n",
    "        f.widget.children[1].value = result"
   ]
  },
  {
   "cell_type": "code",
   "execution_count": null,
   "metadata": {},
   "outputs": [],
   "source": [
    "f.widget.children"
   ]
  },
  {
   "cell_type": "code",
   "execution_count": null,
   "metadata": {},
   "outputs": [],
   "source": [
    "import importlib\n",
    "importlib.reload(custom_jupyter_utils)"
   ]
  },
  {
   "cell_type": "code",
   "execution_count": null,
   "metadata": {},
   "outputs": [],
   "source": [
    "import custom_jupyter_utils\n",
    "custom_jupyter_utils.display_cell('1')"
   ]
  },
  {
   "cell_type": "code",
   "execution_count": null,
   "metadata": {
    "collapsed": true
   },
   "outputs": [],
   "source": []
  },
  {
   "cell_type": "code",
   "execution_count": null,
   "metadata": {
    "collapsed": true
   },
   "outputs": [],
   "source": [
    "1"
   ]
  }
 ],
 "metadata": {
  "kernelspec": {
   "display_name": "Python 3",
   "language": "python",
   "name": "python3"
  },
  "language_info": {
   "codemirror_mode": {
    "name": "ipython",
    "version": 3
   },
   "file_extension": ".py",
   "mimetype": "text/x-python",
   "name": "python",
   "nbconvert_exporter": "python",
   "pygments_lexer": "ipython3",
   "version": "3.6.1"
  },
  "toc": {
   "nav_menu": {
    "height": "12px",
    "width": "252px"
   },
   "number_sections": true,
   "sideBar": true,
   "skip_h1_title": false,
   "title_cell": "Table of Contents",
   "title_sidebar": "Contents",
   "toc_cell": false,
   "toc_position": {},
   "toc_section_display": "block",
   "toc_window_display": false
  }
 },
 "nbformat": 4,
 "nbformat_minor": 1
}
