{
 "cells": [
  {
   "cell_type": "code",
   "execution_count": null,
   "metadata": {
    "collapsed": true
   },
   "outputs": [],
   "source": [
    "import database\n",
    "from snowballing.operations import load_work, reload, work_by_varname\n",
    "from snowballing.selenium_scholar import SeleniumScholarQuerier\n",
    "from snowballing.snowballing import ForwardSnowballing\n",
    "from snowballing.dbmanager import insert, set_attribute"
   ]
  },
  {
   "cell_type": "code",
   "execution_count": null,
   "metadata": {
    "collapsed": true
   },
   "outputs": [],
   "source": [
    "querier = SeleniumScholarQuerier()"
   ]
  },
  {
   "cell_type": "code",
   "execution_count": null,
   "metadata": {
    "scrolled": true
   },
   "outputs": [],
   "source": [
    "querier.apply_settings(20, 4)"
   ]
  },
  {
   "cell_type": "code",
   "execution_count": null,
   "metadata": {},
   "outputs": [],
   "source": [
    "manager = ForwardSnowballing(querier, \"hartig2010a\", citation_file=\"hartig2010a\", start=60)"
   ]
  },
  {
   "cell_type": "code",
   "execution_count": null,
   "metadata": {},
   "outputs": [],
   "source": [
    "manager.browser()"
   ]
  },
  {
   "cell_type": "code",
   "execution_count": null,
   "metadata": {
    "collapsed": true
   },
   "outputs": [],
   "source": [
    "# Temp\n",
    "insert('''\n",
    "brandt2013a = DB(Work(\n",
    "    2013, \"Linked Data for IATI\",\n",
    "    display=\"brandt\",\n",
    "    authors=\"Brandt, Kasper and de Boer, Victor\",\n",
    "    place=WebSema,\n",
    "    entrytype=\"phdthesis\",\n",
    "    ID=\"brandt2013linked\",\n",
    "    cluster_id=\"17680704018487821847\",\n",
    "    scholar=\"http://scholar.google.com/scholar?cites=17680704018487821847&as_sdt=2005&sciodt=0,5&hl=en\",\n",
    "    local=\"MSc Thesis, Vrije Universiteit Amsterdam\",\n",
    "))\n",
    "\n",
    "DB(Citation(\n",
    "    brandt2013a, hartig2010a, ref=\"\",\n",
    "    contexts=[\n",
    "\n",
    "    ],\n",
    "))\n",
    "\n",
    "''', citations='hartig2010a');"
   ]
  },
  {
   "cell_type": "code",
   "execution_count": null,
   "metadata": {
    "collapsed": true
   },
   "outputs": [],
   "source": []
  }
 ],
 "metadata": {
  "kernelspec": {
   "display_name": "Python 3",
   "language": "python",
   "name": "python3"
  },
  "language_info": {
   "codemirror_mode": {
    "name": "ipython",
    "version": 3
   },
   "file_extension": ".py",
   "mimetype": "text/x-python",
   "name": "python",
   "nbconvert_exporter": "python",
   "pygments_lexer": "ipython3",
   "version": "3.6.1"
  },
  "toc": {
   "nav_menu": {
    "height": "12px",
    "width": "252px"
   },
   "number_sections": true,
   "sideBar": true,
   "skip_h1_title": false,
   "title_cell": "Table of Contents",
   "title_sidebar": "Contents",
   "toc_cell": false,
   "toc_position": {},
   "toc_section_display": "block",
   "toc_window_display": false
  }
 },
 "nbformat": 4,
 "nbformat_minor": 1
}
